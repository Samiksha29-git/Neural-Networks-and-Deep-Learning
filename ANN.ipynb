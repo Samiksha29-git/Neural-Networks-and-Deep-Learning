{
  "nbformat": 4,
  "nbformat_minor": 0,
  "metadata": {
    "colab": {
      "provenance": []
    },
    "kernelspec": {
      "name": "python3",
      "display_name": "Python 3"
    },
    "language_info": {
      "name": "python"
    }
  },
  "cells": [
    {
      "cell_type": "code",
      "source": [
        "x_= [0.68, 0.38, 0.46, 0.62, 0.42]\n"
      ],
      "metadata": {
        "id": "m_XAPg2bdotY"
      },
      "execution_count": null,
      "outputs": []
    },
    {
      "cell_type": "markdown",
      "source": [
        "# **Sigmoid**"
      ],
      "metadata": {
        "id": "DUfkOL-UgfZr"
      }
    },
    {
      "cell_type": "code",
      "source": [
        "def sig(x):\n",
        "  e = 2.718281828459045 **(-x)\n",
        "  return 1/(1+e)"
      ],
      "metadata": {
        "id": "zeBUZorHgcUA"
      },
      "execution_count": null,
      "outputs": []
    },
    {
      "cell_type": "code",
      "source": [
        "for x in x_:\n",
        "  print(sig(x))"
      ],
      "metadata": {
        "colab": {
          "base_uri": "https://localhost:8080/"
        },
        "id": "sbdNiGzWgsyq",
        "outputId": "55ae8bcb-28e1-424d-a494-82df13d84dcb"
      },
      "execution_count": null,
      "outputs": [
        {
          "output_type": "stream",
          "name": "stdout",
          "text": [
            "0.6637386974043527\n",
            "0.5938731029341427\n",
            "0.6130141761393355\n",
            "0.6502185485738271\n",
            "0.6034832498647262\n"
          ]
        }
      ]
    },
    {
      "cell_type": "markdown",
      "source": [
        "# **Tanh**"
      ],
      "metadata": {
        "id": "2hD9grgngczw"
      }
    },
    {
      "cell_type": "code",
      "source": [
        "def tanh(x):\n",
        "  e =  2.718281828459045 **(-2 * x)\n",
        "  return (1-e)/(1+e)"
      ],
      "metadata": {
        "id": "aLsol1YfeWdc"
      },
      "execution_count": null,
      "outputs": []
    },
    {
      "cell_type": "code",
      "source": [
        "for x in x_:\n",
        "  print(tanh(x))"
      ],
      "metadata": {
        "colab": {
          "base_uri": "https://localhost:8080/"
        },
        "id": "rzky-AwRf8Gy",
        "outputId": "ec768830-f216-4ead-8638-5c298eea2677"
      },
      "execution_count": null,
      "outputs": [
        {
          "output_type": "stream",
          "name": "stdout",
          "text": [
            "0.5915193954318165\n",
            "0.3627074675780511\n",
            "0.43008421140197944\n",
            "0.5511280285381469\n",
            "0.39693043200507755\n"
          ]
        }
      ]
    },
    {
      "cell_type": "markdown",
      "source": [
        "# **ReLU**"
      ],
      "metadata": {
        "id": "HBwD53Xvg299"
      }
    },
    {
      "cell_type": "code",
      "source": [
        "def relu(x):\n",
        "  return max(0,x)"
      ],
      "metadata": {
        "id": "POSKRiObg1Pr"
      },
      "execution_count": null,
      "outputs": []
    },
    {
      "cell_type": "code",
      "source": [
        "for x in x_:\n",
        "  print(relu(x))"
      ],
      "metadata": {
        "colab": {
          "base_uri": "https://localhost:8080/"
        },
        "id": "-ySL4uuLfGEu",
        "outputId": "93fdf06a-1b89-4d91-ff3c-9c2959001714"
      },
      "execution_count": null,
      "outputs": [
        {
          "output_type": "stream",
          "name": "stdout",
          "text": [
            "0.68\n",
            "0.38\n",
            "0.46\n",
            "0.62\n",
            "0.42\n"
          ]
        }
      ]
    },
    {
      "cell_type": "markdown",
      "source": [
        "# **LAB 1**"
      ],
      "metadata": {
        "id": "PGQpYDcHb26Q"
      }
    },
    {
      "cell_type": "markdown",
      "source": [
        "Importing the required libraries"
      ],
      "metadata": {
        "id": "e0-XFY_BdBH8"
      }
    },
    {
      "cell_type": "code",
      "source": [
        "import numpy as np\n",
        "import tensorflow as tf\n",
        "from tensorflow.keras.models import Sequential\n",
        "from tensorflow.keras.layers import Dense\n",
        "import matplotlib.pyplot as plt\n",
        "import pandas as pd\n",
        "import torch\n",
        "from sklearn.model_selection import train_test_split\n",
        "from sklearn.preprocessing import StandardScaler, MinMaxScaler\n",
        "from sklearn.metrics import r2_score"
      ],
      "metadata": {
        "id": "n2d_ve_mhJNZ"
      },
      "execution_count": null,
      "outputs": []
    },
    {
      "cell_type": "markdown",
      "source": [
        "Loading the data"
      ],
      "metadata": {
        "id": "swYF7UwkdD6q"
      }
    },
    {
      "cell_type": "code",
      "source": [
        "data = pd.read_csv('/content/drive/MyDrive/CPCB.csv')"
      ],
      "metadata": {
        "id": "dhkI0hr-cQ6S"
      },
      "execution_count": null,
      "outputs": []
    },
    {
      "cell_type": "markdown",
      "source": [
        "Exploring the data"
      ],
      "metadata": {
        "id": "rH1CPkv7dFyZ"
      }
    },
    {
      "cell_type": "code",
      "source": [
        "data.head()"
      ],
      "metadata": {
        "colab": {
          "base_uri": "https://localhost:8080/",
          "height": 206
        },
        "id": "PenlLtG2cvLK",
        "outputId": "75cb80ad-290b-48be-dc44-b78faa8d0bf0"
      },
      "execution_count": null,
      "outputs": [
        {
          "output_type": "execute_result",
          "data": {
            "text/plain": [
              "           Datetime       NO2        O3          CO       SO2       Temp  \\\n",
              "0  01-07-2022 00:00  2.175523  1.171429  233.043584  4.965646  23.336625   \n",
              "1  01-07-2022 01:00  2.175523  1.171429  233.043584  4.965646  23.336625   \n",
              "2  01-07-2022 02:00  2.175523  1.171429  233.043584  4.965646  23.336625   \n",
              "3  01-07-2022 03:00  2.175523  1.171429  233.043584  4.965646  23.336625   \n",
              "4  01-07-2022 04:00  2.175523  1.171429  233.043584  4.965646  23.336625   \n",
              "\n",
              "          RH      PM2.5       PM10  \n",
              "0  72.361834  11.883808  19.943981  \n",
              "1  72.361834  11.883808  19.943981  \n",
              "2  72.361834  11.883808  19.943981  \n",
              "3  72.361834  11.883808  19.943981  \n",
              "4  72.361834  11.883808  19.943981  "
            ],
            "text/html": [
              "\n",
              "  <div id=\"df-cbdee612-41a1-45b6-a9eb-1bbbf839aff1\" class=\"colab-df-container\">\n",
              "    <div>\n",
              "<style scoped>\n",
              "    .dataframe tbody tr th:only-of-type {\n",
              "        vertical-align: middle;\n",
              "    }\n",
              "\n",
              "    .dataframe tbody tr th {\n",
              "        vertical-align: top;\n",
              "    }\n",
              "\n",
              "    .dataframe thead th {\n",
              "        text-align: right;\n",
              "    }\n",
              "</style>\n",
              "<table border=\"1\" class=\"dataframe\">\n",
              "  <thead>\n",
              "    <tr style=\"text-align: right;\">\n",
              "      <th></th>\n",
              "      <th>Datetime</th>\n",
              "      <th>NO2</th>\n",
              "      <th>O3</th>\n",
              "      <th>CO</th>\n",
              "      <th>SO2</th>\n",
              "      <th>Temp</th>\n",
              "      <th>RH</th>\n",
              "      <th>PM2.5</th>\n",
              "      <th>PM10</th>\n",
              "    </tr>\n",
              "  </thead>\n",
              "  <tbody>\n",
              "    <tr>\n",
              "      <th>0</th>\n",
              "      <td>01-07-2022 00:00</td>\n",
              "      <td>2.175523</td>\n",
              "      <td>1.171429</td>\n",
              "      <td>233.043584</td>\n",
              "      <td>4.965646</td>\n",
              "      <td>23.336625</td>\n",
              "      <td>72.361834</td>\n",
              "      <td>11.883808</td>\n",
              "      <td>19.943981</td>\n",
              "    </tr>\n",
              "    <tr>\n",
              "      <th>1</th>\n",
              "      <td>01-07-2022 01:00</td>\n",
              "      <td>2.175523</td>\n",
              "      <td>1.171429</td>\n",
              "      <td>233.043584</td>\n",
              "      <td>4.965646</td>\n",
              "      <td>23.336625</td>\n",
              "      <td>72.361834</td>\n",
              "      <td>11.883808</td>\n",
              "      <td>19.943981</td>\n",
              "    </tr>\n",
              "    <tr>\n",
              "      <th>2</th>\n",
              "      <td>01-07-2022 02:00</td>\n",
              "      <td>2.175523</td>\n",
              "      <td>1.171429</td>\n",
              "      <td>233.043584</td>\n",
              "      <td>4.965646</td>\n",
              "      <td>23.336625</td>\n",
              "      <td>72.361834</td>\n",
              "      <td>11.883808</td>\n",
              "      <td>19.943981</td>\n",
              "    </tr>\n",
              "    <tr>\n",
              "      <th>3</th>\n",
              "      <td>01-07-2022 03:00</td>\n",
              "      <td>2.175523</td>\n",
              "      <td>1.171429</td>\n",
              "      <td>233.043584</td>\n",
              "      <td>4.965646</td>\n",
              "      <td>23.336625</td>\n",
              "      <td>72.361834</td>\n",
              "      <td>11.883808</td>\n",
              "      <td>19.943981</td>\n",
              "    </tr>\n",
              "    <tr>\n",
              "      <th>4</th>\n",
              "      <td>01-07-2022 04:00</td>\n",
              "      <td>2.175523</td>\n",
              "      <td>1.171429</td>\n",
              "      <td>233.043584</td>\n",
              "      <td>4.965646</td>\n",
              "      <td>23.336625</td>\n",
              "      <td>72.361834</td>\n",
              "      <td>11.883808</td>\n",
              "      <td>19.943981</td>\n",
              "    </tr>\n",
              "  </tbody>\n",
              "</table>\n",
              "</div>\n",
              "    <div class=\"colab-df-buttons\">\n",
              "\n",
              "  <div class=\"colab-df-container\">\n",
              "    <button class=\"colab-df-convert\" onclick=\"convertToInteractive('df-cbdee612-41a1-45b6-a9eb-1bbbf839aff1')\"\n",
              "            title=\"Convert this dataframe to an interactive table.\"\n",
              "            style=\"display:none;\">\n",
              "\n",
              "  <svg xmlns=\"http://www.w3.org/2000/svg\" height=\"24px\" viewBox=\"0 -960 960 960\">\n",
              "    <path d=\"M120-120v-720h720v720H120Zm60-500h600v-160H180v160Zm220 220h160v-160H400v160Zm0 220h160v-160H400v160ZM180-400h160v-160H180v160Zm440 0h160v-160H620v160ZM180-180h160v-160H180v160Zm440 0h160v-160H620v160Z\"/>\n",
              "  </svg>\n",
              "    </button>\n",
              "\n",
              "  <style>\n",
              "    .colab-df-container {\n",
              "      display:flex;\n",
              "      gap: 12px;\n",
              "    }\n",
              "\n",
              "    .colab-df-convert {\n",
              "      background-color: #E8F0FE;\n",
              "      border: none;\n",
              "      border-radius: 50%;\n",
              "      cursor: pointer;\n",
              "      display: none;\n",
              "      fill: #1967D2;\n",
              "      height: 32px;\n",
              "      padding: 0 0 0 0;\n",
              "      width: 32px;\n",
              "    }\n",
              "\n",
              "    .colab-df-convert:hover {\n",
              "      background-color: #E2EBFA;\n",
              "      box-shadow: 0px 1px 2px rgba(60, 64, 67, 0.3), 0px 1px 3px 1px rgba(60, 64, 67, 0.15);\n",
              "      fill: #174EA6;\n",
              "    }\n",
              "\n",
              "    .colab-df-buttons div {\n",
              "      margin-bottom: 4px;\n",
              "    }\n",
              "\n",
              "    [theme=dark] .colab-df-convert {\n",
              "      background-color: #3B4455;\n",
              "      fill: #D2E3FC;\n",
              "    }\n",
              "\n",
              "    [theme=dark] .colab-df-convert:hover {\n",
              "      background-color: #434B5C;\n",
              "      box-shadow: 0px 1px 3px 1px rgba(0, 0, 0, 0.15);\n",
              "      filter: drop-shadow(0px 1px 2px rgba(0, 0, 0, 0.3));\n",
              "      fill: #FFFFFF;\n",
              "    }\n",
              "  </style>\n",
              "\n",
              "    <script>\n",
              "      const buttonEl =\n",
              "        document.querySelector('#df-cbdee612-41a1-45b6-a9eb-1bbbf839aff1 button.colab-df-convert');\n",
              "      buttonEl.style.display =\n",
              "        google.colab.kernel.accessAllowed ? 'block' : 'none';\n",
              "\n",
              "      async function convertToInteractive(key) {\n",
              "        const element = document.querySelector('#df-cbdee612-41a1-45b6-a9eb-1bbbf839aff1');\n",
              "        const dataTable =\n",
              "          await google.colab.kernel.invokeFunction('convertToInteractive',\n",
              "                                                    [key], {});\n",
              "        if (!dataTable) return;\n",
              "\n",
              "        const docLinkHtml = 'Like what you see? Visit the ' +\n",
              "          '<a target=\"_blank\" href=https://colab.research.google.com/notebooks/data_table.ipynb>data table notebook</a>'\n",
              "          + ' to learn more about interactive tables.';\n",
              "        element.innerHTML = '';\n",
              "        dataTable['output_type'] = 'display_data';\n",
              "        await google.colab.output.renderOutput(dataTable, element);\n",
              "        const docLink = document.createElement('div');\n",
              "        docLink.innerHTML = docLinkHtml;\n",
              "        element.appendChild(docLink);\n",
              "      }\n",
              "    </script>\n",
              "  </div>\n",
              "\n",
              "\n",
              "<div id=\"df-4fbe0778-1e89-40c0-879e-e613767b7b6b\">\n",
              "  <button class=\"colab-df-quickchart\" onclick=\"quickchart('df-4fbe0778-1e89-40c0-879e-e613767b7b6b')\"\n",
              "            title=\"Suggest charts\"\n",
              "            style=\"display:none;\">\n",
              "\n",
              "<svg xmlns=\"http://www.w3.org/2000/svg\" height=\"24px\"viewBox=\"0 0 24 24\"\n",
              "     width=\"24px\">\n",
              "    <g>\n",
              "        <path d=\"M19 3H5c-1.1 0-2 .9-2 2v14c0 1.1.9 2 2 2h14c1.1 0 2-.9 2-2V5c0-1.1-.9-2-2-2zM9 17H7v-7h2v7zm4 0h-2V7h2v10zm4 0h-2v-4h2v4z\"/>\n",
              "    </g>\n",
              "</svg>\n",
              "  </button>\n",
              "\n",
              "<style>\n",
              "  .colab-df-quickchart {\n",
              "      --bg-color: #E8F0FE;\n",
              "      --fill-color: #1967D2;\n",
              "      --hover-bg-color: #E2EBFA;\n",
              "      --hover-fill-color: #174EA6;\n",
              "      --disabled-fill-color: #AAA;\n",
              "      --disabled-bg-color: #DDD;\n",
              "  }\n",
              "\n",
              "  [theme=dark] .colab-df-quickchart {\n",
              "      --bg-color: #3B4455;\n",
              "      --fill-color: #D2E3FC;\n",
              "      --hover-bg-color: #434B5C;\n",
              "      --hover-fill-color: #FFFFFF;\n",
              "      --disabled-bg-color: #3B4455;\n",
              "      --disabled-fill-color: #666;\n",
              "  }\n",
              "\n",
              "  .colab-df-quickchart {\n",
              "    background-color: var(--bg-color);\n",
              "    border: none;\n",
              "    border-radius: 50%;\n",
              "    cursor: pointer;\n",
              "    display: none;\n",
              "    fill: var(--fill-color);\n",
              "    height: 32px;\n",
              "    padding: 0;\n",
              "    width: 32px;\n",
              "  }\n",
              "\n",
              "  .colab-df-quickchart:hover {\n",
              "    background-color: var(--hover-bg-color);\n",
              "    box-shadow: 0 1px 2px rgba(60, 64, 67, 0.3), 0 1px 3px 1px rgba(60, 64, 67, 0.15);\n",
              "    fill: var(--button-hover-fill-color);\n",
              "  }\n",
              "\n",
              "  .colab-df-quickchart-complete:disabled,\n",
              "  .colab-df-quickchart-complete:disabled:hover {\n",
              "    background-color: var(--disabled-bg-color);\n",
              "    fill: var(--disabled-fill-color);\n",
              "    box-shadow: none;\n",
              "  }\n",
              "\n",
              "  .colab-df-spinner {\n",
              "    border: 2px solid var(--fill-color);\n",
              "    border-color: transparent;\n",
              "    border-bottom-color: var(--fill-color);\n",
              "    animation:\n",
              "      spin 1s steps(1) infinite;\n",
              "  }\n",
              "\n",
              "  @keyframes spin {\n",
              "    0% {\n",
              "      border-color: transparent;\n",
              "      border-bottom-color: var(--fill-color);\n",
              "      border-left-color: var(--fill-color);\n",
              "    }\n",
              "    20% {\n",
              "      border-color: transparent;\n",
              "      border-left-color: var(--fill-color);\n",
              "      border-top-color: var(--fill-color);\n",
              "    }\n",
              "    30% {\n",
              "      border-color: transparent;\n",
              "      border-left-color: var(--fill-color);\n",
              "      border-top-color: var(--fill-color);\n",
              "      border-right-color: var(--fill-color);\n",
              "    }\n",
              "    40% {\n",
              "      border-color: transparent;\n",
              "      border-right-color: var(--fill-color);\n",
              "      border-top-color: var(--fill-color);\n",
              "    }\n",
              "    60% {\n",
              "      border-color: transparent;\n",
              "      border-right-color: var(--fill-color);\n",
              "    }\n",
              "    80% {\n",
              "      border-color: transparent;\n",
              "      border-right-color: var(--fill-color);\n",
              "      border-bottom-color: var(--fill-color);\n",
              "    }\n",
              "    90% {\n",
              "      border-color: transparent;\n",
              "      border-bottom-color: var(--fill-color);\n",
              "    }\n",
              "  }\n",
              "</style>\n",
              "\n",
              "  <script>\n",
              "    async function quickchart(key) {\n",
              "      const quickchartButtonEl =\n",
              "        document.querySelector('#' + key + ' button');\n",
              "      quickchartButtonEl.disabled = true;  // To prevent multiple clicks.\n",
              "      quickchartButtonEl.classList.add('colab-df-spinner');\n",
              "      try {\n",
              "        const charts = await google.colab.kernel.invokeFunction(\n",
              "            'suggestCharts', [key], {});\n",
              "      } catch (error) {\n",
              "        console.error('Error during call to suggestCharts:', error);\n",
              "      }\n",
              "      quickchartButtonEl.classList.remove('colab-df-spinner');\n",
              "      quickchartButtonEl.classList.add('colab-df-quickchart-complete');\n",
              "    }\n",
              "    (() => {\n",
              "      let quickchartButtonEl =\n",
              "        document.querySelector('#df-4fbe0778-1e89-40c0-879e-e613767b7b6b button');\n",
              "      quickchartButtonEl.style.display =\n",
              "        google.colab.kernel.accessAllowed ? 'block' : 'none';\n",
              "    })();\n",
              "  </script>\n",
              "</div>\n",
              "\n",
              "    </div>\n",
              "  </div>\n"
            ],
            "application/vnd.google.colaboratory.intrinsic+json": {
              "type": "dataframe",
              "variable_name": "data",
              "summary": "{\n  \"name\": \"data\",\n  \"rows\": 8881,\n  \"fields\": [\n    {\n      \"column\": \"Datetime\",\n      \"properties\": {\n        \"dtype\": \"string\",\n        \"num_unique_values\": 8881,\n        \"samples\": [\n          \"22-05-2023 10:00\",\n          \"31-07-2022 16:00\",\n          \"01-01-2023 07:00\"\n        ],\n        \"semantic_type\": \"\",\n        \"description\": \"\"\n      }\n    },\n    {\n      \"column\": \"NO2\",\n      \"properties\": {\n        \"dtype\": \"number\",\n        \"std\": 0.5850489465199867,\n        \"min\": 1.76596875,\n        \"max\": 25.88567625,\n        \"num_unique_values\": 1841,\n        \"samples\": [\n          2.25477,\n          2.17373625,\n          1.97292375\n        ],\n        \"semantic_type\": \"\",\n        \"description\": \"\"\n      }\n    },\n    {\n      \"column\": \"O3\",\n      \"properties\": {\n        \"dtype\": \"number\",\n        \"std\": 2.622279148910665,\n        \"min\": 0.186224409,\n        \"max\": 34.51961461,\n        \"num_unique_values\": 1108,\n        \"samples\": [\n          0.362757815,\n          0.603723295,\n          0.925883665\n        ],\n        \"semantic_type\": \"\",\n        \"description\": \"\"\n      }\n    },\n    {\n      \"column\": \"CO\",\n      \"properties\": {\n        \"dtype\": \"number\",\n        \"std\": 121.48513693792252,\n        \"min\": 0.0,\n        \"max\": 1332.431136,\n        \"num_unique_values\": 417,\n        \"samples\": [\n          38.80867388,\n          209.0493899,\n          1050.42144\n        ],\n        \"semantic_type\": \"\",\n        \"description\": \"\"\n      }\n    },\n    {\n      \"column\": \"SO2\",\n      \"properties\": {\n        \"dtype\": \"number\",\n        \"std\": 1.1705137664125222,\n        \"min\": 2.92064386,\n        \"max\": 9.834520975,\n        \"num_unique_values\": 3756,\n        \"samples\": [\n          6.22843189,\n          3.85026056,\n          5.625877618\n        ],\n        \"semantic_type\": \"\",\n        \"description\": \"\"\n      }\n    },\n    {\n      \"column\": \"Temp\",\n      \"properties\": {\n        \"dtype\": \"number\",\n        \"std\": 2.7826501620102504,\n        \"min\": 17.892,\n        \"max\": 28.3195,\n        \"num_unique_values\": 4378,\n        \"samples\": [\n          20.69,\n          18.031,\n          26.8355\n        ],\n        \"semantic_type\": \"\",\n        \"description\": \"\"\n      }\n    },\n    {\n      \"column\": \"RH\",\n      \"properties\": {\n        \"dtype\": \"number\",\n        \"std\": 15.706896695324744,\n        \"min\": 13.0425,\n        \"max\": 99.1325,\n        \"num_unique_values\": 5495,\n        \"samples\": [\n          63.1675,\n          59.6925,\n          63.1175\n        ],\n        \"semantic_type\": \"\",\n        \"description\": \"\"\n      }\n    },\n    {\n      \"column\": \"PM2.5\",\n      \"properties\": {\n        \"dtype\": \"number\",\n        \"std\": 8.870804211938607,\n        \"min\": 0.27958502,\n        \"max\": 66.8044677,\n        \"num_unique_values\": 5084,\n        \"samples\": [\n          14.17980354,\n          38.2825299,\n          26.3259601\n        ],\n        \"semantic_type\": \"\",\n        \"description\": \"\"\n      }\n    },\n    {\n      \"column\": \"PM10\",\n      \"properties\": {\n        \"dtype\": \"number\",\n        \"std\": 15.536308153989026,\n        \"min\": 0.319974405,\n        \"max\": 392.74117,\n        \"num_unique_values\": 5541,\n        \"samples\": [\n          10.41880522,\n          10.5390199,\n          36.1559116\n        ],\n        \"semantic_type\": \"\",\n        \"description\": \"\"\n      }\n    }\n  ]\n}"
            }
          },
          "metadata": {},
          "execution_count": 96
        }
      ]
    },
    {
      "cell_type": "code",
      "source": [
        "data.describe()"
      ],
      "metadata": {
        "colab": {
          "base_uri": "https://localhost:8080/",
          "height": 300
        },
        "id": "rfKIdMYLcz4b",
        "outputId": "92a65772-69e0-4692-d726-6624c645398e"
      },
      "execution_count": null,
      "outputs": [
        {
          "output_type": "execute_result",
          "data": {
            "text/plain": [
              "               NO2           O3           CO          SO2         Temp  \\\n",
              "count  8881.000000  8881.000000  8881.000000  8881.000000  8881.000000   \n",
              "mean      2.176745     1.173476   235.143765     4.978822    23.293260   \n",
              "std       0.585049     2.622279   121.485137     1.170514     2.782650   \n",
              "min       1.765969     0.186224     0.000000     2.920644    17.892000   \n",
              "25%       2.132156     0.447881   165.583675     3.943222    21.000000   \n",
              "50%       2.175523     0.684918   233.043584     4.965646    23.336625   \n",
              "75%       2.241776     1.171429   250.962758     6.037213    25.412000   \n",
              "max      25.885676    34.519615  1332.431136     9.834521    28.319500   \n",
              "\n",
              "                RH        PM2.5         PM10  \n",
              "count  8881.000000  8881.000000  8881.000000  \n",
              "mean     72.685802    12.092634    20.034472  \n",
              "std      15.706897     8.870804    15.536308  \n",
              "min      13.042500     0.279585     0.319974  \n",
              "25%      68.760000     5.358683    10.096638  \n",
              "50%      72.361834    11.883808    19.943981  \n",
              "75%      84.490000    13.989915    21.900803  \n",
              "max      99.132500    66.804468   392.741170  "
            ],
            "text/html": [
              "\n",
              "  <div id=\"df-7906704e-babb-44b6-8d5a-3fa47352c8c2\" class=\"colab-df-container\">\n",
              "    <div>\n",
              "<style scoped>\n",
              "    .dataframe tbody tr th:only-of-type {\n",
              "        vertical-align: middle;\n",
              "    }\n",
              "\n",
              "    .dataframe tbody tr th {\n",
              "        vertical-align: top;\n",
              "    }\n",
              "\n",
              "    .dataframe thead th {\n",
              "        text-align: right;\n",
              "    }\n",
              "</style>\n",
              "<table border=\"1\" class=\"dataframe\">\n",
              "  <thead>\n",
              "    <tr style=\"text-align: right;\">\n",
              "      <th></th>\n",
              "      <th>NO2</th>\n",
              "      <th>O3</th>\n",
              "      <th>CO</th>\n",
              "      <th>SO2</th>\n",
              "      <th>Temp</th>\n",
              "      <th>RH</th>\n",
              "      <th>PM2.5</th>\n",
              "      <th>PM10</th>\n",
              "    </tr>\n",
              "  </thead>\n",
              "  <tbody>\n",
              "    <tr>\n",
              "      <th>count</th>\n",
              "      <td>8881.000000</td>\n",
              "      <td>8881.000000</td>\n",
              "      <td>8881.000000</td>\n",
              "      <td>8881.000000</td>\n",
              "      <td>8881.000000</td>\n",
              "      <td>8881.000000</td>\n",
              "      <td>8881.000000</td>\n",
              "      <td>8881.000000</td>\n",
              "    </tr>\n",
              "    <tr>\n",
              "      <th>mean</th>\n",
              "      <td>2.176745</td>\n",
              "      <td>1.173476</td>\n",
              "      <td>235.143765</td>\n",
              "      <td>4.978822</td>\n",
              "      <td>23.293260</td>\n",
              "      <td>72.685802</td>\n",
              "      <td>12.092634</td>\n",
              "      <td>20.034472</td>\n",
              "    </tr>\n",
              "    <tr>\n",
              "      <th>std</th>\n",
              "      <td>0.585049</td>\n",
              "      <td>2.622279</td>\n",
              "      <td>121.485137</td>\n",
              "      <td>1.170514</td>\n",
              "      <td>2.782650</td>\n",
              "      <td>15.706897</td>\n",
              "      <td>8.870804</td>\n",
              "      <td>15.536308</td>\n",
              "    </tr>\n",
              "    <tr>\n",
              "      <th>min</th>\n",
              "      <td>1.765969</td>\n",
              "      <td>0.186224</td>\n",
              "      <td>0.000000</td>\n",
              "      <td>2.920644</td>\n",
              "      <td>17.892000</td>\n",
              "      <td>13.042500</td>\n",
              "      <td>0.279585</td>\n",
              "      <td>0.319974</td>\n",
              "    </tr>\n",
              "    <tr>\n",
              "      <th>25%</th>\n",
              "      <td>2.132156</td>\n",
              "      <td>0.447881</td>\n",
              "      <td>165.583675</td>\n",
              "      <td>3.943222</td>\n",
              "      <td>21.000000</td>\n",
              "      <td>68.760000</td>\n",
              "      <td>5.358683</td>\n",
              "      <td>10.096638</td>\n",
              "    </tr>\n",
              "    <tr>\n",
              "      <th>50%</th>\n",
              "      <td>2.175523</td>\n",
              "      <td>0.684918</td>\n",
              "      <td>233.043584</td>\n",
              "      <td>4.965646</td>\n",
              "      <td>23.336625</td>\n",
              "      <td>72.361834</td>\n",
              "      <td>11.883808</td>\n",
              "      <td>19.943981</td>\n",
              "    </tr>\n",
              "    <tr>\n",
              "      <th>75%</th>\n",
              "      <td>2.241776</td>\n",
              "      <td>1.171429</td>\n",
              "      <td>250.962758</td>\n",
              "      <td>6.037213</td>\n",
              "      <td>25.412000</td>\n",
              "      <td>84.490000</td>\n",
              "      <td>13.989915</td>\n",
              "      <td>21.900803</td>\n",
              "    </tr>\n",
              "    <tr>\n",
              "      <th>max</th>\n",
              "      <td>25.885676</td>\n",
              "      <td>34.519615</td>\n",
              "      <td>1332.431136</td>\n",
              "      <td>9.834521</td>\n",
              "      <td>28.319500</td>\n",
              "      <td>99.132500</td>\n",
              "      <td>66.804468</td>\n",
              "      <td>392.741170</td>\n",
              "    </tr>\n",
              "  </tbody>\n",
              "</table>\n",
              "</div>\n",
              "    <div class=\"colab-df-buttons\">\n",
              "\n",
              "  <div class=\"colab-df-container\">\n",
              "    <button class=\"colab-df-convert\" onclick=\"convertToInteractive('df-7906704e-babb-44b6-8d5a-3fa47352c8c2')\"\n",
              "            title=\"Convert this dataframe to an interactive table.\"\n",
              "            style=\"display:none;\">\n",
              "\n",
              "  <svg xmlns=\"http://www.w3.org/2000/svg\" height=\"24px\" viewBox=\"0 -960 960 960\">\n",
              "    <path d=\"M120-120v-720h720v720H120Zm60-500h600v-160H180v160Zm220 220h160v-160H400v160Zm0 220h160v-160H400v160ZM180-400h160v-160H180v160Zm440 0h160v-160H620v160ZM180-180h160v-160H180v160Zm440 0h160v-160H620v160Z\"/>\n",
              "  </svg>\n",
              "    </button>\n",
              "\n",
              "  <style>\n",
              "    .colab-df-container {\n",
              "      display:flex;\n",
              "      gap: 12px;\n",
              "    }\n",
              "\n",
              "    .colab-df-convert {\n",
              "      background-color: #E8F0FE;\n",
              "      border: none;\n",
              "      border-radius: 50%;\n",
              "      cursor: pointer;\n",
              "      display: none;\n",
              "      fill: #1967D2;\n",
              "      height: 32px;\n",
              "      padding: 0 0 0 0;\n",
              "      width: 32px;\n",
              "    }\n",
              "\n",
              "    .colab-df-convert:hover {\n",
              "      background-color: #E2EBFA;\n",
              "      box-shadow: 0px 1px 2px rgba(60, 64, 67, 0.3), 0px 1px 3px 1px rgba(60, 64, 67, 0.15);\n",
              "      fill: #174EA6;\n",
              "    }\n",
              "\n",
              "    .colab-df-buttons div {\n",
              "      margin-bottom: 4px;\n",
              "    }\n",
              "\n",
              "    [theme=dark] .colab-df-convert {\n",
              "      background-color: #3B4455;\n",
              "      fill: #D2E3FC;\n",
              "    }\n",
              "\n",
              "    [theme=dark] .colab-df-convert:hover {\n",
              "      background-color: #434B5C;\n",
              "      box-shadow: 0px 1px 3px 1px rgba(0, 0, 0, 0.15);\n",
              "      filter: drop-shadow(0px 1px 2px rgba(0, 0, 0, 0.3));\n",
              "      fill: #FFFFFF;\n",
              "    }\n",
              "  </style>\n",
              "\n",
              "    <script>\n",
              "      const buttonEl =\n",
              "        document.querySelector('#df-7906704e-babb-44b6-8d5a-3fa47352c8c2 button.colab-df-convert');\n",
              "      buttonEl.style.display =\n",
              "        google.colab.kernel.accessAllowed ? 'block' : 'none';\n",
              "\n",
              "      async function convertToInteractive(key) {\n",
              "        const element = document.querySelector('#df-7906704e-babb-44b6-8d5a-3fa47352c8c2');\n",
              "        const dataTable =\n",
              "          await google.colab.kernel.invokeFunction('convertToInteractive',\n",
              "                                                    [key], {});\n",
              "        if (!dataTable) return;\n",
              "\n",
              "        const docLinkHtml = 'Like what you see? Visit the ' +\n",
              "          '<a target=\"_blank\" href=https://colab.research.google.com/notebooks/data_table.ipynb>data table notebook</a>'\n",
              "          + ' to learn more about interactive tables.';\n",
              "        element.innerHTML = '';\n",
              "        dataTable['output_type'] = 'display_data';\n",
              "        await google.colab.output.renderOutput(dataTable, element);\n",
              "        const docLink = document.createElement('div');\n",
              "        docLink.innerHTML = docLinkHtml;\n",
              "        element.appendChild(docLink);\n",
              "      }\n",
              "    </script>\n",
              "  </div>\n",
              "\n",
              "\n",
              "<div id=\"df-dcee07f2-cf51-4ada-9d94-0fc865e385eb\">\n",
              "  <button class=\"colab-df-quickchart\" onclick=\"quickchart('df-dcee07f2-cf51-4ada-9d94-0fc865e385eb')\"\n",
              "            title=\"Suggest charts\"\n",
              "            style=\"display:none;\">\n",
              "\n",
              "<svg xmlns=\"http://www.w3.org/2000/svg\" height=\"24px\"viewBox=\"0 0 24 24\"\n",
              "     width=\"24px\">\n",
              "    <g>\n",
              "        <path d=\"M19 3H5c-1.1 0-2 .9-2 2v14c0 1.1.9 2 2 2h14c1.1 0 2-.9 2-2V5c0-1.1-.9-2-2-2zM9 17H7v-7h2v7zm4 0h-2V7h2v10zm4 0h-2v-4h2v4z\"/>\n",
              "    </g>\n",
              "</svg>\n",
              "  </button>\n",
              "\n",
              "<style>\n",
              "  .colab-df-quickchart {\n",
              "      --bg-color: #E8F0FE;\n",
              "      --fill-color: #1967D2;\n",
              "      --hover-bg-color: #E2EBFA;\n",
              "      --hover-fill-color: #174EA6;\n",
              "      --disabled-fill-color: #AAA;\n",
              "      --disabled-bg-color: #DDD;\n",
              "  }\n",
              "\n",
              "  [theme=dark] .colab-df-quickchart {\n",
              "      --bg-color: #3B4455;\n",
              "      --fill-color: #D2E3FC;\n",
              "      --hover-bg-color: #434B5C;\n",
              "      --hover-fill-color: #FFFFFF;\n",
              "      --disabled-bg-color: #3B4455;\n",
              "      --disabled-fill-color: #666;\n",
              "  }\n",
              "\n",
              "  .colab-df-quickchart {\n",
              "    background-color: var(--bg-color);\n",
              "    border: none;\n",
              "    border-radius: 50%;\n",
              "    cursor: pointer;\n",
              "    display: none;\n",
              "    fill: var(--fill-color);\n",
              "    height: 32px;\n",
              "    padding: 0;\n",
              "    width: 32px;\n",
              "  }\n",
              "\n",
              "  .colab-df-quickchart:hover {\n",
              "    background-color: var(--hover-bg-color);\n",
              "    box-shadow: 0 1px 2px rgba(60, 64, 67, 0.3), 0 1px 3px 1px rgba(60, 64, 67, 0.15);\n",
              "    fill: var(--button-hover-fill-color);\n",
              "  }\n",
              "\n",
              "  .colab-df-quickchart-complete:disabled,\n",
              "  .colab-df-quickchart-complete:disabled:hover {\n",
              "    background-color: var(--disabled-bg-color);\n",
              "    fill: var(--disabled-fill-color);\n",
              "    box-shadow: none;\n",
              "  }\n",
              "\n",
              "  .colab-df-spinner {\n",
              "    border: 2px solid var(--fill-color);\n",
              "    border-color: transparent;\n",
              "    border-bottom-color: var(--fill-color);\n",
              "    animation:\n",
              "      spin 1s steps(1) infinite;\n",
              "  }\n",
              "\n",
              "  @keyframes spin {\n",
              "    0% {\n",
              "      border-color: transparent;\n",
              "      border-bottom-color: var(--fill-color);\n",
              "      border-left-color: var(--fill-color);\n",
              "    }\n",
              "    20% {\n",
              "      border-color: transparent;\n",
              "      border-left-color: var(--fill-color);\n",
              "      border-top-color: var(--fill-color);\n",
              "    }\n",
              "    30% {\n",
              "      border-color: transparent;\n",
              "      border-left-color: var(--fill-color);\n",
              "      border-top-color: var(--fill-color);\n",
              "      border-right-color: var(--fill-color);\n",
              "    }\n",
              "    40% {\n",
              "      border-color: transparent;\n",
              "      border-right-color: var(--fill-color);\n",
              "      border-top-color: var(--fill-color);\n",
              "    }\n",
              "    60% {\n",
              "      border-color: transparent;\n",
              "      border-right-color: var(--fill-color);\n",
              "    }\n",
              "    80% {\n",
              "      border-color: transparent;\n",
              "      border-right-color: var(--fill-color);\n",
              "      border-bottom-color: var(--fill-color);\n",
              "    }\n",
              "    90% {\n",
              "      border-color: transparent;\n",
              "      border-bottom-color: var(--fill-color);\n",
              "    }\n",
              "  }\n",
              "</style>\n",
              "\n",
              "  <script>\n",
              "    async function quickchart(key) {\n",
              "      const quickchartButtonEl =\n",
              "        document.querySelector('#' + key + ' button');\n",
              "      quickchartButtonEl.disabled = true;  // To prevent multiple clicks.\n",
              "      quickchartButtonEl.classList.add('colab-df-spinner');\n",
              "      try {\n",
              "        const charts = await google.colab.kernel.invokeFunction(\n",
              "            'suggestCharts', [key], {});\n",
              "      } catch (error) {\n",
              "        console.error('Error during call to suggestCharts:', error);\n",
              "      }\n",
              "      quickchartButtonEl.classList.remove('colab-df-spinner');\n",
              "      quickchartButtonEl.classList.add('colab-df-quickchart-complete');\n",
              "    }\n",
              "    (() => {\n",
              "      let quickchartButtonEl =\n",
              "        document.querySelector('#df-dcee07f2-cf51-4ada-9d94-0fc865e385eb button');\n",
              "      quickchartButtonEl.style.display =\n",
              "        google.colab.kernel.accessAllowed ? 'block' : 'none';\n",
              "    })();\n",
              "  </script>\n",
              "</div>\n",
              "\n",
              "    </div>\n",
              "  </div>\n"
            ],
            "application/vnd.google.colaboratory.intrinsic+json": {
              "type": "dataframe",
              "summary": "{\n  \"name\": \"data\",\n  \"rows\": 8,\n  \"fields\": [\n    {\n      \"column\": \"NO2\",\n      \"properties\": {\n        \"dtype\": \"number\",\n        \"std\": 3138.0520754639133,\n        \"min\": 0.5850489465199867,\n        \"max\": 8881.0,\n        \"num_unique_values\": 8,\n        \"samples\": [\n          2.176744947730324,\n          2.1755232,\n          8881.0\n        ],\n        \"semantic_type\": \"\",\n        \"description\": \"\"\n      }\n    },\n    {\n      \"column\": \"O3\",\n      \"properties\": {\n        \"dtype\": \"number\",\n        \"std\": 3137.868601953322,\n        \"min\": 0.186224409,\n        \"max\": 8881.0,\n        \"num_unique_values\": 8,\n        \"samples\": [\n          1.1734760929620536,\n          0.684918185,\n          8881.0\n        ],\n        \"semantic_type\": \"\",\n        \"description\": \"\"\n      }\n    },\n    {\n      \"column\": \"CO\",\n      \"properties\": {\n        \"dtype\": \"number\",\n        \"std\": 3050.227769308559,\n        \"min\": 0.0,\n        \"max\": 8881.0,\n        \"num_unique_values\": 8,\n        \"samples\": [\n          235.1437649840795,\n          233.0435842,\n          8881.0\n        ],\n        \"semantic_type\": \"\",\n        \"description\": \"\"\n      }\n    },\n    {\n      \"column\": \"SO2\",\n      \"properties\": {\n        \"dtype\": \"number\",\n        \"std\": 3138.198959105446,\n        \"min\": 1.1705137664125222,\n        \"max\": 8881.0,\n        \"num_unique_values\": 8,\n        \"samples\": [\n          4.978822208939421,\n          4.965645867,\n          8881.0\n        ],\n        \"semantic_type\": \"\",\n        \"description\": \"\"\n      }\n    },\n    {\n      \"column\": \"Temp\",\n      \"properties\": {\n        \"dtype\": \"number\",\n        \"std\": 3132.743375418763,\n        \"min\": 2.7826501620102504,\n        \"max\": 8881.0,\n        \"num_unique_values\": 8,\n        \"samples\": [\n          23.293259644426303,\n          23.33662516,\n          8881.0\n        ],\n        \"semantic_type\": \"\",\n        \"description\": \"\"\n      }\n    },\n    {\n      \"column\": \"RH\",\n      \"properties\": {\n        \"dtype\": \"number\",\n        \"std\": 3118.5354201911423,\n        \"min\": 13.0425,\n        \"max\": 8881.0,\n        \"num_unique_values\": 8,\n        \"samples\": [\n          72.68580195913748,\n          72.36183352,\n          8881.0\n        ],\n        \"semantic_type\": \"\",\n        \"description\": \"\"\n      }\n    },\n    {\n      \"column\": \"PM2.5\",\n      \"properties\": {\n        \"dtype\": \"number\",\n        \"std\": 3133.951971486944,\n        \"min\": 0.27958502,\n        \"max\": 8881.0,\n        \"num_unique_values\": 8,\n        \"samples\": [\n          12.092634339875467,\n          11.88380751,\n          8881.0\n        ],\n        \"semantic_type\": \"\",\n        \"description\": \"\"\n      }\n    },\n    {\n      \"column\": \"PM10\",\n      \"properties\": {\n        \"dtype\": \"number\",\n        \"std\": 3118.4507805979188,\n        \"min\": 0.319974405,\n        \"max\": 8881.0,\n        \"num_unique_values\": 8,\n        \"samples\": [\n          20.034471536591823,\n          19.94398114,\n          8881.0\n        ],\n        \"semantic_type\": \"\",\n        \"description\": \"\"\n      }\n    }\n  ]\n}"
            }
          },
          "metadata": {},
          "execution_count": 97
        }
      ]
    },
    {
      "cell_type": "code",
      "source": [
        "data.shape"
      ],
      "metadata": {
        "colab": {
          "base_uri": "https://localhost:8080/"
        },
        "id": "JK8-amTYc1RY",
        "outputId": "9793f20c-7685-431b-f1f6-dc0217738c7c"
      },
      "execution_count": null,
      "outputs": [
        {
          "output_type": "execute_result",
          "data": {
            "text/plain": [
              "(8881, 9)"
            ]
          },
          "metadata": {},
          "execution_count": 98
        }
      ]
    },
    {
      "cell_type": "code",
      "source": [
        "data.dtypes"
      ],
      "metadata": {
        "colab": {
          "base_uri": "https://localhost:8080/",
          "height": 366
        },
        "id": "pXIKZphbc3e9",
        "outputId": "c15eed5b-d755-4493-e854-6b3b0a707469"
      },
      "execution_count": null,
      "outputs": [
        {
          "output_type": "execute_result",
          "data": {
            "text/plain": [
              "Datetime     object\n",
              "NO2         float64\n",
              "O3          float64\n",
              "CO          float64\n",
              "SO2         float64\n",
              "Temp        float64\n",
              "RH          float64\n",
              "PM2.5       float64\n",
              "PM10        float64\n",
              "dtype: object"
            ],
            "text/html": [
              "<div>\n",
              "<style scoped>\n",
              "    .dataframe tbody tr th:only-of-type {\n",
              "        vertical-align: middle;\n",
              "    }\n",
              "\n",
              "    .dataframe tbody tr th {\n",
              "        vertical-align: top;\n",
              "    }\n",
              "\n",
              "    .dataframe thead th {\n",
              "        text-align: right;\n",
              "    }\n",
              "</style>\n",
              "<table border=\"1\" class=\"dataframe\">\n",
              "  <thead>\n",
              "    <tr style=\"text-align: right;\">\n",
              "      <th></th>\n",
              "      <th>0</th>\n",
              "    </tr>\n",
              "  </thead>\n",
              "  <tbody>\n",
              "    <tr>\n",
              "      <th>Datetime</th>\n",
              "      <td>object</td>\n",
              "    </tr>\n",
              "    <tr>\n",
              "      <th>NO2</th>\n",
              "      <td>float64</td>\n",
              "    </tr>\n",
              "    <tr>\n",
              "      <th>O3</th>\n",
              "      <td>float64</td>\n",
              "    </tr>\n",
              "    <tr>\n",
              "      <th>CO</th>\n",
              "      <td>float64</td>\n",
              "    </tr>\n",
              "    <tr>\n",
              "      <th>SO2</th>\n",
              "      <td>float64</td>\n",
              "    </tr>\n",
              "    <tr>\n",
              "      <th>Temp</th>\n",
              "      <td>float64</td>\n",
              "    </tr>\n",
              "    <tr>\n",
              "      <th>RH</th>\n",
              "      <td>float64</td>\n",
              "    </tr>\n",
              "    <tr>\n",
              "      <th>PM2.5</th>\n",
              "      <td>float64</td>\n",
              "    </tr>\n",
              "    <tr>\n",
              "      <th>PM10</th>\n",
              "      <td>float64</td>\n",
              "    </tr>\n",
              "  </tbody>\n",
              "</table>\n",
              "</div><br><label><b>dtype:</b> object</label>"
            ]
          },
          "metadata": {},
          "execution_count": 99
        }
      ]
    },
    {
      "cell_type": "code",
      "source": [
        "data.columns"
      ],
      "metadata": {
        "colab": {
          "base_uri": "https://localhost:8080/"
        },
        "id": "M356f9xxc5cx",
        "outputId": "02ab0b07-0b12-4fbc-8cca-b3e6a2267de1"
      },
      "execution_count": null,
      "outputs": [
        {
          "output_type": "execute_result",
          "data": {
            "text/plain": [
              "Index(['Datetime', 'NO2', 'O3', 'CO', 'SO2', 'Temp', 'RH', 'PM2.5', 'PM10'], dtype='object')"
            ]
          },
          "metadata": {},
          "execution_count": 100
        }
      ]
    },
    {
      "cell_type": "markdown",
      "source": [
        "Pre-processing the data"
      ],
      "metadata": {
        "id": "JOansJV7dJz-"
      }
    },
    {
      "cell_type": "code",
      "source": [
        "data.isnull().sum()\n",
        "# No missing values"
      ],
      "metadata": {
        "colab": {
          "base_uri": "https://localhost:8080/",
          "height": 366
        },
        "id": "NpjnNmDKc_Yb",
        "outputId": "15144007-3029-4d7c-96c3-fc8b3d7da85c"
      },
      "execution_count": null,
      "outputs": [
        {
          "output_type": "execute_result",
          "data": {
            "text/plain": [
              "Datetime    0\n",
              "NO2         0\n",
              "O3          0\n",
              "CO          0\n",
              "SO2         0\n",
              "Temp        0\n",
              "RH          0\n",
              "PM2.5       0\n",
              "PM10        0\n",
              "dtype: int64"
            ],
            "text/html": [
              "<div>\n",
              "<style scoped>\n",
              "    .dataframe tbody tr th:only-of-type {\n",
              "        vertical-align: middle;\n",
              "    }\n",
              "\n",
              "    .dataframe tbody tr th {\n",
              "        vertical-align: top;\n",
              "    }\n",
              "\n",
              "    .dataframe thead th {\n",
              "        text-align: right;\n",
              "    }\n",
              "</style>\n",
              "<table border=\"1\" class=\"dataframe\">\n",
              "  <thead>\n",
              "    <tr style=\"text-align: right;\">\n",
              "      <th></th>\n",
              "      <th>0</th>\n",
              "    </tr>\n",
              "  </thead>\n",
              "  <tbody>\n",
              "    <tr>\n",
              "      <th>Datetime</th>\n",
              "      <td>0</td>\n",
              "    </tr>\n",
              "    <tr>\n",
              "      <th>NO2</th>\n",
              "      <td>0</td>\n",
              "    </tr>\n",
              "    <tr>\n",
              "      <th>O3</th>\n",
              "      <td>0</td>\n",
              "    </tr>\n",
              "    <tr>\n",
              "      <th>CO</th>\n",
              "      <td>0</td>\n",
              "    </tr>\n",
              "    <tr>\n",
              "      <th>SO2</th>\n",
              "      <td>0</td>\n",
              "    </tr>\n",
              "    <tr>\n",
              "      <th>Temp</th>\n",
              "      <td>0</td>\n",
              "    </tr>\n",
              "    <tr>\n",
              "      <th>RH</th>\n",
              "      <td>0</td>\n",
              "    </tr>\n",
              "    <tr>\n",
              "      <th>PM2.5</th>\n",
              "      <td>0</td>\n",
              "    </tr>\n",
              "    <tr>\n",
              "      <th>PM10</th>\n",
              "      <td>0</td>\n",
              "    </tr>\n",
              "  </tbody>\n",
              "</table>\n",
              "</div><br><label><b>dtype:</b> int64</label>"
            ]
          },
          "metadata": {},
          "execution_count": 101
        }
      ]
    },
    {
      "cell_type": "code",
      "source": [
        "data_numerical = data.select_dtypes(include=np.number)"
      ],
      "metadata": {
        "id": "MyjDbclaeDG7"
      },
      "execution_count": null,
      "outputs": []
    },
    {
      "cell_type": "code",
      "source": [
        "data_selected = data_numerical[['CO', 'SO2', 'PM10', 'PM2.5']]\n",
        "\n",
        "minmax = MinMaxScaler()\n",
        "data = minmax.fit_transform(data_selected)"
      ],
      "metadata": {
        "id": "LyvmyNmHdRSI"
      },
      "execution_count": null,
      "outputs": []
    },
    {
      "cell_type": "code",
      "source": [
        "numerical_data = data[['NO2', 'O3', 'CO', 'SO2', 'Temp', 'RH', 'PM2.5', 'PM10']]\n",
        "\n",
        "Q1 = np.percentile(numerical_data, 25, axis=0)\n",
        "Q3 = np.percentile(numerical_data, 75, axis=0)\n",
        "IQR = Q3 - Q1\n",
        "\n",
        "lower_bound = Q1 - 1.5 * IQR\n",
        "upper_bound = Q3 + 1.5 * IQR\n",
        "\n",
        "lower_df = pd.DataFrame([lower_bound], columns=numerical_data.columns)\n",
        "upper_df = pd.DataFrame([upper_bound], columns=numerical_data.columns)\n",
        "\n",
        "# Winsorize: clip values outside bounds\n",
        "data_winsorized = numerical_data.clip(lower=lower_df, upper=upper_df, axis=1)\n",
        "\n",
        "data[['NO2', 'O3', 'CO', 'SO2', 'Temp', 'RH', 'PM2.5', 'PM10']] = data_winsorized"
      ],
      "metadata": {
        "colab": {
          "base_uri": "https://localhost:8080/",
          "height": 211
        },
        "id": "Y313eC8AtW5P",
        "outputId": "81e56be5-ce7d-4657-e753-8e377e15a851"
      },
      "execution_count": null,
      "outputs": [
        {
          "output_type": "error",
          "ename": "NameError",
          "evalue": "name 'df' is not defined",
          "traceback": [
            "\u001b[0;31m---------------------------------------------------------------------------\u001b[0m",
            "\u001b[0;31mNameError\u001b[0m                                 Traceback (most recent call last)",
            "\u001b[0;32m/tmp/ipython-input-1-3959708344.py\u001b[0m in \u001b[0;36m<cell line: 0>\u001b[0;34m()\u001b[0m\n\u001b[0;32m----> 1\u001b[0;31m \u001b[0mnumerical_data\u001b[0m \u001b[0;34m=\u001b[0m \u001b[0mdf\u001b[0m\u001b[0;34m[\u001b[0m\u001b[0;34m[\u001b[0m\u001b[0;34m'NO2'\u001b[0m\u001b[0;34m,\u001b[0m \u001b[0;34m'O3'\u001b[0m\u001b[0;34m,\u001b[0m \u001b[0;34m'CO'\u001b[0m\u001b[0;34m,\u001b[0m \u001b[0;34m'SO2'\u001b[0m\u001b[0;34m,\u001b[0m \u001b[0;34m'Temp'\u001b[0m\u001b[0;34m,\u001b[0m \u001b[0;34m'RH'\u001b[0m\u001b[0;34m,\u001b[0m \u001b[0;34m'PM2.5'\u001b[0m\u001b[0;34m,\u001b[0m \u001b[0;34m'PM10'\u001b[0m\u001b[0;34m]\u001b[0m\u001b[0;34m]\u001b[0m\u001b[0;34m\u001b[0m\u001b[0;34m\u001b[0m\u001b[0m\n\u001b[0m\u001b[1;32m      2\u001b[0m \u001b[0;34m\u001b[0m\u001b[0m\n\u001b[1;32m      3\u001b[0m \u001b[0mQ1\u001b[0m \u001b[0;34m=\u001b[0m \u001b[0mnp\u001b[0m\u001b[0;34m.\u001b[0m\u001b[0mpercentile\u001b[0m\u001b[0;34m(\u001b[0m\u001b[0mnumerical_data\u001b[0m\u001b[0;34m,\u001b[0m \u001b[0;36m25\u001b[0m\u001b[0;34m,\u001b[0m \u001b[0maxis\u001b[0m\u001b[0;34m=\u001b[0m\u001b[0;36m0\u001b[0m\u001b[0;34m)\u001b[0m\u001b[0;34m\u001b[0m\u001b[0;34m\u001b[0m\u001b[0m\n\u001b[1;32m      4\u001b[0m \u001b[0mQ3\u001b[0m \u001b[0;34m=\u001b[0m \u001b[0mnp\u001b[0m\u001b[0;34m.\u001b[0m\u001b[0mpercentile\u001b[0m\u001b[0;34m(\u001b[0m\u001b[0mnumerical_data\u001b[0m\u001b[0;34m,\u001b[0m \u001b[0;36m75\u001b[0m\u001b[0;34m,\u001b[0m \u001b[0maxis\u001b[0m\u001b[0;34m=\u001b[0m\u001b[0;36m0\u001b[0m\u001b[0;34m)\u001b[0m\u001b[0;34m\u001b[0m\u001b[0;34m\u001b[0m\u001b[0m\n\u001b[1;32m      5\u001b[0m \u001b[0mIQR\u001b[0m \u001b[0;34m=\u001b[0m \u001b[0mQ3\u001b[0m \u001b[0;34m-\u001b[0m \u001b[0mQ1\u001b[0m\u001b[0;34m\u001b[0m\u001b[0;34m\u001b[0m\u001b[0m\n",
            "\u001b[0;31mNameError\u001b[0m: name 'df' is not defined"
          ]
        }
      ]
    },
    {
      "cell_type": "markdown",
      "source": [
        "ANN"
      ],
      "metadata": {
        "id": "R9N76DbpkmKN"
      }
    },
    {
      "cell_type": "code",
      "source": [
        "column_names = [ 'CO', 'SO2', 'PM10','PM2.5']\n",
        "df = pd.DataFrame(data, columns=column_names)\n",
        "\n",
        "X = df.drop('PM2.5', axis=1)\n",
        "y = df['PM2.5']\n",
        "\n",
        "X.columns = ['CO', 'SO2', 'PM10']\n",
        "df = pd.DataFrame(X, columns=X.columns)\n",
        "df['target'] = y\n",
        "print(df.head())\n",
        "print(df.head())"
      ],
      "metadata": {
        "colab": {
          "base_uri": "https://localhost:8080/"
        },
        "id": "ERAIviBNmx-l",
        "outputId": "59b560e6-a86f-4a35-806c-69c3aebcef09"
      },
      "execution_count": null,
      "outputs": [
        {
          "output_type": "stream",
          "name": "stdout",
          "text": [
            "         CO       SO2      PM10    target\n",
            "0  0.174901  0.295782  0.050008  0.174434\n",
            "1  0.174901  0.295782  0.050008  0.174434\n",
            "2  0.174901  0.295782  0.050008  0.174434\n",
            "3  0.174901  0.295782  0.050008  0.174434\n",
            "4  0.174901  0.295782  0.050008  0.174434\n",
            "         CO       SO2      PM10    target\n",
            "0  0.174901  0.295782  0.050008  0.174434\n",
            "1  0.174901  0.295782  0.050008  0.174434\n",
            "2  0.174901  0.295782  0.050008  0.174434\n",
            "3  0.174901  0.295782  0.050008  0.174434\n",
            "4  0.174901  0.295782  0.050008  0.174434\n"
          ]
        }
      ]
    },
    {
      "cell_type": "code",
      "source": [
        "X_train, X_test,y_train, y_test = train_test_split(X, y, test_size=0.2,random_state=42)\n",
        "print(\"Before Scaling\")\n",
        "print(X_train)\n",
        "print(X_test)"
      ],
      "metadata": {
        "colab": {
          "base_uri": "https://localhost:8080/"
        },
        "id": "qlOxNBSsnFt2",
        "outputId": "ee4eb2d0-cb0d-4df7-d4fd-d01965f7c683"
      },
      "execution_count": null,
      "outputs": [
        {
          "output_type": "stream",
          "name": "stdout",
          "text": [
            "Before Scaling\n",
            "            CO       SO2      PM10\n",
            "3872  0.176699  0.081440  0.010462\n",
            "1345  0.087379  0.079397  0.016574\n",
            "7978  0.141748  0.293252  0.028333\n",
            "5924  0.161165  0.518849  0.056394\n",
            "7301  0.077670  0.185516  0.013981\n",
            "...        ...       ...       ...\n",
            "5734  0.244660  0.548549  0.081525\n",
            "5191  0.054369  0.410774  0.011652\n",
            "5390  0.174901  0.295782  0.050008\n",
            "860   0.174901  0.295782  0.050008\n",
            "7270  0.141748  0.639946  0.053109\n",
            "\n",
            "[7104 rows x 3 columns]\n",
            "            CO       SO2      PM10\n",
            "7810  0.128155  0.344566  0.036936\n",
            "736   0.079612  0.056251  0.014527\n",
            "4423  0.172816  0.227895  0.062688\n",
            "2138  0.062136  0.126202  0.014277\n",
            "3685  0.174901  0.295782  0.050008\n",
            "...        ...       ...       ...\n",
            "8377  0.174901  0.295782  0.050008\n",
            "2580  0.122330  0.142796  0.026788\n",
            "6149  0.277670  0.602502  0.112256\n",
            "7963  0.227184  0.302442  0.033413\n",
            "2287  0.174901  0.295782  0.050008\n",
            "\n",
            "[1777 rows x 3 columns]\n"
          ]
        }
      ]
    },
    {
      "cell_type": "code",
      "source": [
        "scaler = StandardScaler()\n",
        "X_train = scaler.fit_transform(X_train)\n",
        "X_test = scaler.transform(X_test)\n",
        "print(\"After Scaling\")\n",
        "print(X_train)\n",
        "print(X_test)"
      ],
      "metadata": {
        "colab": {
          "base_uri": "https://localhost:8080/"
        },
        "id": "xM_W60afnJwX",
        "outputId": "0fc9ce04-a311-4137-c993-30056c7bd329"
      },
      "execution_count": null,
      "outputs": [
        {
          "output_type": "stream",
          "name": "stdout",
          "text": [
            "After Scaling\n",
            "[[ 0.00419242 -1.27363307 -1.0123011 ]\n",
            " [-0.98032254 -1.28570194 -0.85649354]\n",
            " [-0.38105256 -0.02199069 -0.55677897]\n",
            " ...\n",
            " [-0.01562559 -0.00703685 -0.00429756]\n",
            " [-0.01562559 -0.00703685 -0.00429756]\n",
            " [-0.38105256  2.02669998  0.07476478]]\n",
            "[[-0.53087006  0.28123967 -0.33748035]\n",
            " [-1.06593253 -1.42248247 -0.90867975]\n",
            " [-0.03861258 -0.40819453  0.3189263 ]\n",
            " ...\n",
            " [ 1.11712238  1.80543736  1.58240228]\n",
            " [ 0.5606574   0.03231922 -0.42728466]\n",
            " [-0.01562559 -0.00703685 -0.00429756]]\n"
          ]
        }
      ]
    },
    {
      "cell_type": "code",
      "source": [
        "model = tf.keras.Sequential([\n",
        "    tf.keras.Input(shape=(X_train.shape[1],)),\n",
        "    tf.keras.layers.Dense(16, activation='relu'),\n",
        "    tf.keras.layers.Dense(16, activation='relu'),\n",
        "    tf.keras.layers.Dense(16, activation='relu'),\n",
        "    tf.keras.layers.Dense(1, activation='relu')  # no activation for regression\n",
        "])"
      ],
      "metadata": {
        "id": "expXJwU5j4cQ"
      },
      "execution_count": null,
      "outputs": []
    },
    {
      "cell_type": "code",
      "source": [
        "# Compile and train\n",
        "model.compile(optimizer='adam', loss='mean_squared_error', metrics=['mae'])\n",
        "\n",
        "model.fit(X_train, y_train, epochs=50, batch_size=64, validation_split=0.1)"
      ],
      "metadata": {
        "colab": {
          "base_uri": "https://localhost:8080/"
        },
        "id": "pSwHYshdjDng",
        "outputId": "4923388f-a098-4e3d-d54c-be1694a1a5a6"
      },
      "execution_count": null,
      "outputs": [
        {
          "output_type": "stream",
          "name": "stdout",
          "text": [
            "Epoch 1/30\n",
            "\u001b[1m100/100\u001b[0m \u001b[32m━━━━━━━━━━━━━━━━━━━━\u001b[0m\u001b[37m\u001b[0m \u001b[1m4s\u001b[0m 10ms/step - loss: 0.0143 - mae: 0.0797 - val_loss: 0.0037 - val_mae: 0.0355\n",
            "Epoch 2/30\n",
            "\u001b[1m100/100\u001b[0m \u001b[32m━━━━━━━━━━━━━━━━━━━━\u001b[0m\u001b[37m\u001b[0m \u001b[1m1s\u001b[0m 7ms/step - loss: 0.0027 - mae: 0.0304 - val_loss: 0.0023 - val_mae: 0.0284\n",
            "Epoch 3/30\n",
            "\u001b[1m100/100\u001b[0m \u001b[32m━━━━━━━━━━━━━━━━━━━━\u001b[0m\u001b[37m\u001b[0m \u001b[1m1s\u001b[0m 6ms/step - loss: 0.0021 - mae: 0.0269 - val_loss: 0.0021 - val_mae: 0.0275\n",
            "Epoch 4/30\n",
            "\u001b[1m100/100\u001b[0m \u001b[32m━━━━━━━━━━━━━━━━━━━━\u001b[0m\u001b[37m\u001b[0m \u001b[1m1s\u001b[0m 6ms/step - loss: 0.0020 - mae: 0.0265 - val_loss: 0.0021 - val_mae: 0.0268\n",
            "Epoch 5/30\n",
            "\u001b[1m100/100\u001b[0m \u001b[32m━━━━━━━━━━━━━━━━━━━━\u001b[0m\u001b[37m\u001b[0m \u001b[1m2s\u001b[0m 12ms/step - loss: 0.0018 - mae: 0.0251 - val_loss: 0.0021 - val_mae: 0.0269\n",
            "Epoch 6/30\n",
            "\u001b[1m100/100\u001b[0m \u001b[32m━━━━━━━━━━━━━━━━━━━━\u001b[0m\u001b[37m\u001b[0m \u001b[1m1s\u001b[0m 10ms/step - loss: 0.0019 - mae: 0.0255 - val_loss: 0.0021 - val_mae: 0.0280\n",
            "Epoch 7/30\n",
            "\u001b[1m100/100\u001b[0m \u001b[32m━━━━━━━━━━━━━━━━━━━━\u001b[0m\u001b[37m\u001b[0m \u001b[1m1s\u001b[0m 8ms/step - loss: 0.0018 - mae: 0.0247 - val_loss: 0.0020 - val_mae: 0.0262\n",
            "Epoch 8/30\n",
            "\u001b[1m100/100\u001b[0m \u001b[32m━━━━━━━━━━━━━━━━━━━━\u001b[0m\u001b[37m\u001b[0m \u001b[1m1s\u001b[0m 8ms/step - loss: 0.0017 - mae: 0.0244 - val_loss: 0.0020 - val_mae: 0.0264\n",
            "Epoch 9/30\n",
            "\u001b[1m100/100\u001b[0m \u001b[32m━━━━━━━━━━━━━━━━━━━━\u001b[0m\u001b[37m\u001b[0m \u001b[1m1s\u001b[0m 8ms/step - loss: 0.0017 - mae: 0.0237 - val_loss: 0.0020 - val_mae: 0.0267\n",
            "Epoch 10/30\n",
            "\u001b[1m100/100\u001b[0m \u001b[32m━━━━━━━━━━━━━━━━━━━━\u001b[0m\u001b[37m\u001b[0m \u001b[1m2s\u001b[0m 11ms/step - loss: 0.0017 - mae: 0.0246 - val_loss: 0.0019 - val_mae: 0.0262\n",
            "Epoch 11/30\n",
            "\u001b[1m100/100\u001b[0m \u001b[32m━━━━━━━━━━━━━━━━━━━━\u001b[0m\u001b[37m\u001b[0m \u001b[1m1s\u001b[0m 8ms/step - loss: 0.0017 - mae: 0.0240 - val_loss: 0.0020 - val_mae: 0.0275\n",
            "Epoch 12/30\n",
            "\u001b[1m100/100\u001b[0m \u001b[32m━━━━━━━━━━━━━━━━━━━━\u001b[0m\u001b[37m\u001b[0m \u001b[1m1s\u001b[0m 10ms/step - loss: 0.0017 - mae: 0.0239 - val_loss: 0.0019 - val_mae: 0.0258\n",
            "Epoch 13/30\n",
            "\u001b[1m100/100\u001b[0m \u001b[32m━━━━━━━━━━━━━━━━━━━━\u001b[0m\u001b[37m\u001b[0m \u001b[1m1s\u001b[0m 7ms/step - loss: 0.0016 - mae: 0.0229 - val_loss: 0.0019 - val_mae: 0.0252\n",
            "Epoch 14/30\n",
            "\u001b[1m100/100\u001b[0m \u001b[32m━━━━━━━━━━━━━━━━━━━━\u001b[0m\u001b[37m\u001b[0m \u001b[1m1s\u001b[0m 10ms/step - loss: 0.0017 - mae: 0.0239 - val_loss: 0.0019 - val_mae: 0.0258\n",
            "Epoch 15/30\n",
            "\u001b[1m100/100\u001b[0m \u001b[32m━━━━━━━━━━━━━━━━━━━━\u001b[0m\u001b[37m\u001b[0m \u001b[1m1s\u001b[0m 8ms/step - loss: 0.0017 - mae: 0.0242 - val_loss: 0.0019 - val_mae: 0.0260\n",
            "Epoch 16/30\n",
            "\u001b[1m100/100\u001b[0m \u001b[32m━━━━━━━━━━━━━━━━━━━━\u001b[0m\u001b[37m\u001b[0m \u001b[1m1s\u001b[0m 9ms/step - loss: 0.0017 - mae: 0.0246 - val_loss: 0.0019 - val_mae: 0.0263\n",
            "Epoch 17/30\n",
            "\u001b[1m100/100\u001b[0m \u001b[32m━━━━━━━━━━━━━━━━━━━━\u001b[0m\u001b[37m\u001b[0m \u001b[1m1s\u001b[0m 7ms/step - loss: 0.0017 - mae: 0.0238 - val_loss: 0.0019 - val_mae: 0.0256\n",
            "Epoch 18/30\n",
            "\u001b[1m100/100\u001b[0m \u001b[32m━━━━━━━━━━━━━━━━━━━━\u001b[0m\u001b[37m\u001b[0m \u001b[1m1s\u001b[0m 7ms/step - loss: 0.0016 - mae: 0.0237 - val_loss: 0.0019 - val_mae: 0.0259\n",
            "Epoch 19/30\n",
            "\u001b[1m100/100\u001b[0m \u001b[32m━━━━━━━━━━━━━━━━━━━━\u001b[0m\u001b[37m\u001b[0m \u001b[1m1s\u001b[0m 6ms/step - loss: 0.0016 - mae: 0.0231 - val_loss: 0.0019 - val_mae: 0.0270\n",
            "Epoch 20/30\n",
            "\u001b[1m100/100\u001b[0m \u001b[32m━━━━━━━━━━━━━━━━━━━━\u001b[0m\u001b[37m\u001b[0m \u001b[1m0s\u001b[0m 4ms/step - loss: 0.0016 - mae: 0.0238 - val_loss: 0.0019 - val_mae: 0.0251\n",
            "Epoch 21/30\n",
            "\u001b[1m100/100\u001b[0m \u001b[32m━━━━━━━━━━━━━━━━━━━━\u001b[0m\u001b[37m\u001b[0m \u001b[1m1s\u001b[0m 4ms/step - loss: 0.0016 - mae: 0.0236 - val_loss: 0.0020 - val_mae: 0.0258\n",
            "Epoch 22/30\n",
            "\u001b[1m100/100\u001b[0m \u001b[32m━━━━━━━━━━━━━━━━━━━━\u001b[0m\u001b[37m\u001b[0m \u001b[1m1s\u001b[0m 4ms/step - loss: 0.0016 - mae: 0.0237 - val_loss: 0.0020 - val_mae: 0.0261\n",
            "Epoch 23/30\n",
            "\u001b[1m100/100\u001b[0m \u001b[32m━━━━━━━━━━━━━━━━━━━━\u001b[0m\u001b[37m\u001b[0m \u001b[1m1s\u001b[0m 5ms/step - loss: 0.0016 - mae: 0.0239 - val_loss: 0.0020 - val_mae: 0.0270\n",
            "Epoch 24/30\n",
            "\u001b[1m100/100\u001b[0m \u001b[32m━━━━━━━━━━━━━━━━━━━━\u001b[0m\u001b[37m\u001b[0m \u001b[1m1s\u001b[0m 5ms/step - loss: 0.0016 - mae: 0.0237 - val_loss: 0.0019 - val_mae: 0.0251\n",
            "Epoch 25/30\n",
            "\u001b[1m100/100\u001b[0m \u001b[32m━━━━━━━━━━━━━━━━━━━━\u001b[0m\u001b[37m\u001b[0m \u001b[1m1s\u001b[0m 5ms/step - loss: 0.0016 - mae: 0.0241 - val_loss: 0.0019 - val_mae: 0.0253\n",
            "Epoch 26/30\n",
            "\u001b[1m100/100\u001b[0m \u001b[32m━━━━━━━━━━━━━━━━━━━━\u001b[0m\u001b[37m\u001b[0m \u001b[1m1s\u001b[0m 6ms/step - loss: 0.0016 - mae: 0.0237 - val_loss: 0.0019 - val_mae: 0.0251\n",
            "Epoch 27/30\n",
            "\u001b[1m100/100\u001b[0m \u001b[32m━━━━━━━━━━━━━━━━━━━━\u001b[0m\u001b[37m\u001b[0m \u001b[1m1s\u001b[0m 7ms/step - loss: 0.0017 - mae: 0.0243 - val_loss: 0.0018 - val_mae: 0.0258\n",
            "Epoch 28/30\n",
            "\u001b[1m100/100\u001b[0m \u001b[32m━━━━━━━━━━━━━━━━━━━━\u001b[0m\u001b[37m\u001b[0m \u001b[1m1s\u001b[0m 4ms/step - loss: 0.0015 - mae: 0.0222 - val_loss: 0.0018 - val_mae: 0.0246\n",
            "Epoch 29/30\n",
            "\u001b[1m100/100\u001b[0m \u001b[32m━━━━━━━━━━━━━━━━━━━━\u001b[0m\u001b[37m\u001b[0m \u001b[1m0s\u001b[0m 4ms/step - loss: 0.0015 - mae: 0.0229 - val_loss: 0.0020 - val_mae: 0.0267\n",
            "Epoch 30/30\n",
            "\u001b[1m100/100\u001b[0m \u001b[32m━━━━━━━━━━━━━━━━━━━━\u001b[0m\u001b[37m\u001b[0m \u001b[1m0s\u001b[0m 4ms/step - loss: 0.0016 - mae: 0.0235 - val_loss: 0.0018 - val_mae: 0.0247\n"
          ]
        },
        {
          "output_type": "execute_result",
          "data": {
            "text/plain": [
              "<keras.src.callbacks.history.History at 0x7c2bc6797350>"
            ]
          },
          "metadata": {},
          "execution_count": 113
        }
      ]
    },
    {
      "cell_type": "code",
      "source": [
        "# Evaluate\n",
        "loss, mae = model.evaluate(X_test, y_test)\n",
        "print(f\"Test Loss (MSE): {loss:.4f}, Test MAE: {mae:.4f}\")"
      ],
      "metadata": {
        "colab": {
          "base_uri": "https://localhost:8080/"
        },
        "id": "CA3XRwfsjUsO",
        "outputId": "cb3b8979-466a-43a1-dc0c-771dca6e097f"
      },
      "execution_count": null,
      "outputs": [
        {
          "output_type": "stream",
          "name": "stdout",
          "text": [
            "\u001b[1m56/56\u001b[0m \u001b[32m━━━━━━━━━━━━━━━━━━━━\u001b[0m\u001b[37m\u001b[0m \u001b[1m1s\u001b[0m 11ms/step - loss: 0.0014 - mae: 0.0229\n",
            "Test Loss (MSE): 0.0015, Test MAE: 0.0234\n"
          ]
        }
      ]
    },
    {
      "cell_type": "code",
      "source": [
        "# Predict using the model\n",
        "y_pred = model.predict(X_test)\n",
        "\n",
        "# Compute R² Score\n",
        "r2 = r2_score(y_test, y_pred)\n",
        "print(f\"R² Score: {r2:.4f}\")\n"
      ],
      "metadata": {
        "colab": {
          "base_uri": "https://localhost:8080/"
        },
        "id": "S8r_NFOGnpig",
        "outputId": "78eb72dd-0fbd-4dff-c638-0f66ff61366f"
      },
      "execution_count": null,
      "outputs": [
        {
          "output_type": "stream",
          "name": "stdout",
          "text": [
            "\u001b[1m56/56\u001b[0m \u001b[32m━━━━━━━━━━━━━━━━━━━━\u001b[0m\u001b[37m\u001b[0m \u001b[1m0s\u001b[0m 6ms/step\n",
            "R² Score: 0.9128\n"
          ]
        }
      ]
    }
  ]
}