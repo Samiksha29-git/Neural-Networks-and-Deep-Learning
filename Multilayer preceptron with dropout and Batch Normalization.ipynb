{
  "nbformat": 4,
  "nbformat_minor": 0,
  "metadata": {
    "colab": {
      "provenance": []
    },
    "kernelspec": {
      "name": "python3",
      "display_name": "Python 3"
    },
    "language_info": {
      "name": "python"
    }
  },
  "cells": [
    {
      "cell_type": "markdown",
      "source": [
        "# **LAB4: Train an MLP with dropout and batch normalization for classification tasks**"
      ],
      "metadata": {
        "id": "Vnbi6gJDb0CP"
      }
    },
    {
      "cell_type": "code",
      "execution_count": 14,
      "metadata": {
        "id": "UyfWq70_WOW-"
      },
      "outputs": [],
      "source": [
        "import numpy as np\n",
        "import tensorflow as tf\n",
        "from tensorflow.keras.models import Sequential\n",
        "from tensorflow.keras.layers import Dense, Dropout, BatchNormalization\n",
        "from sklearn.model_selection import train_test_split\n",
        "from sklearn.preprocessing import StandardScaler\n",
        "from sklearn.metrics import accuracy_score, classification_report\n",
        "import pandas as pd\n",
        "import seaborn as sns"
      ]
    },
    {
      "cell_type": "code",
      "source": [
        "data = pd.read_csv('/content/drive/MyDrive/CPCB.csv')"
      ],
      "metadata": {
        "id": "ITZPgguUWZtN"
      },
      "execution_count": 3,
      "outputs": []
    },
    {
      "cell_type": "code",
      "source": [
        "df = pd.read_csv('/content/drive/MyDrive/CPCB.csv')"
      ],
      "metadata": {
        "id": "k2zQnHD_cWsa"
      },
      "execution_count": 18,
      "outputs": []
    },
    {
      "cell_type": "code",
      "source": [
        "data.head()"
      ],
      "metadata": {
        "id": "H_hBHih2Wcdv",
        "colab": {
          "base_uri": "https://localhost:8080/",
          "height": 206
        },
        "outputId": "feefe90b-4e48-4246-d517-db03a10a839b"
      },
      "execution_count": 5,
      "outputs": [
        {
          "output_type": "execute_result",
          "data": {
            "text/plain": [
              "           Datetime       NO2        O3          CO       SO2       Temp  \\\n",
              "0  01-07-2022 00:00  2.175523  1.171429  233.043584  4.965646  23.336625   \n",
              "1  01-07-2022 01:00  2.175523  1.171429  233.043584  4.965646  23.336625   \n",
              "2  01-07-2022 02:00  2.175523  1.171429  233.043584  4.965646  23.336625   \n",
              "3  01-07-2022 03:00  2.175523  1.171429  233.043584  4.965646  23.336625   \n",
              "4  01-07-2022 04:00  2.175523  1.171429  233.043584  4.965646  23.336625   \n",
              "\n",
              "          RH      PM2.5       PM10  \n",
              "0  72.361834  11.883808  19.943981  \n",
              "1  72.361834  11.883808  19.943981  \n",
              "2  72.361834  11.883808  19.943981  \n",
              "3  72.361834  11.883808  19.943981  \n",
              "4  72.361834  11.883808  19.943981  "
            ],
            "text/html": [
              "\n",
              "  <div id=\"df-11325f75-99d9-4317-898e-d838b5066bbb\" class=\"colab-df-container\">\n",
              "    <div>\n",
              "<style scoped>\n",
              "    .dataframe tbody tr th:only-of-type {\n",
              "        vertical-align: middle;\n",
              "    }\n",
              "\n",
              "    .dataframe tbody tr th {\n",
              "        vertical-align: top;\n",
              "    }\n",
              "\n",
              "    .dataframe thead th {\n",
              "        text-align: right;\n",
              "    }\n",
              "</style>\n",
              "<table border=\"1\" class=\"dataframe\">\n",
              "  <thead>\n",
              "    <tr style=\"text-align: right;\">\n",
              "      <th></th>\n",
              "      <th>Datetime</th>\n",
              "      <th>NO2</th>\n",
              "      <th>O3</th>\n",
              "      <th>CO</th>\n",
              "      <th>SO2</th>\n",
              "      <th>Temp</th>\n",
              "      <th>RH</th>\n",
              "      <th>PM2.5</th>\n",
              "      <th>PM10</th>\n",
              "    </tr>\n",
              "  </thead>\n",
              "  <tbody>\n",
              "    <tr>\n",
              "      <th>0</th>\n",
              "      <td>01-07-2022 00:00</td>\n",
              "      <td>2.175523</td>\n",
              "      <td>1.171429</td>\n",
              "      <td>233.043584</td>\n",
              "      <td>4.965646</td>\n",
              "      <td>23.336625</td>\n",
              "      <td>72.361834</td>\n",
              "      <td>11.883808</td>\n",
              "      <td>19.943981</td>\n",
              "    </tr>\n",
              "    <tr>\n",
              "      <th>1</th>\n",
              "      <td>01-07-2022 01:00</td>\n",
              "      <td>2.175523</td>\n",
              "      <td>1.171429</td>\n",
              "      <td>233.043584</td>\n",
              "      <td>4.965646</td>\n",
              "      <td>23.336625</td>\n",
              "      <td>72.361834</td>\n",
              "      <td>11.883808</td>\n",
              "      <td>19.943981</td>\n",
              "    </tr>\n",
              "    <tr>\n",
              "      <th>2</th>\n",
              "      <td>01-07-2022 02:00</td>\n",
              "      <td>2.175523</td>\n",
              "      <td>1.171429</td>\n",
              "      <td>233.043584</td>\n",
              "      <td>4.965646</td>\n",
              "      <td>23.336625</td>\n",
              "      <td>72.361834</td>\n",
              "      <td>11.883808</td>\n",
              "      <td>19.943981</td>\n",
              "    </tr>\n",
              "    <tr>\n",
              "      <th>3</th>\n",
              "      <td>01-07-2022 03:00</td>\n",
              "      <td>2.175523</td>\n",
              "      <td>1.171429</td>\n",
              "      <td>233.043584</td>\n",
              "      <td>4.965646</td>\n",
              "      <td>23.336625</td>\n",
              "      <td>72.361834</td>\n",
              "      <td>11.883808</td>\n",
              "      <td>19.943981</td>\n",
              "    </tr>\n",
              "    <tr>\n",
              "      <th>4</th>\n",
              "      <td>01-07-2022 04:00</td>\n",
              "      <td>2.175523</td>\n",
              "      <td>1.171429</td>\n",
              "      <td>233.043584</td>\n",
              "      <td>4.965646</td>\n",
              "      <td>23.336625</td>\n",
              "      <td>72.361834</td>\n",
              "      <td>11.883808</td>\n",
              "      <td>19.943981</td>\n",
              "    </tr>\n",
              "  </tbody>\n",
              "</table>\n",
              "</div>\n",
              "    <div class=\"colab-df-buttons\">\n",
              "\n",
              "  <div class=\"colab-df-container\">\n",
              "    <button class=\"colab-df-convert\" onclick=\"convertToInteractive('df-11325f75-99d9-4317-898e-d838b5066bbb')\"\n",
              "            title=\"Convert this dataframe to an interactive table.\"\n",
              "            style=\"display:none;\">\n",
              "\n",
              "  <svg xmlns=\"http://www.w3.org/2000/svg\" height=\"24px\" viewBox=\"0 -960 960 960\">\n",
              "    <path d=\"M120-120v-720h720v720H120Zm60-500h600v-160H180v160Zm220 220h160v-160H400v160Zm0 220h160v-160H400v160ZM180-400h160v-160H180v160Zm440 0h160v-160H620v160ZM180-180h160v-160H180v160Zm440 0h160v-160H620v160Z\"/>\n",
              "  </svg>\n",
              "    </button>\n",
              "\n",
              "  <style>\n",
              "    .colab-df-container {\n",
              "      display:flex;\n",
              "      gap: 12px;\n",
              "    }\n",
              "\n",
              "    .colab-df-convert {\n",
              "      background-color: #E8F0FE;\n",
              "      border: none;\n",
              "      border-radius: 50%;\n",
              "      cursor: pointer;\n",
              "      display: none;\n",
              "      fill: #1967D2;\n",
              "      height: 32px;\n",
              "      padding: 0 0 0 0;\n",
              "      width: 32px;\n",
              "    }\n",
              "\n",
              "    .colab-df-convert:hover {\n",
              "      background-color: #E2EBFA;\n",
              "      box-shadow: 0px 1px 2px rgba(60, 64, 67, 0.3), 0px 1px 3px 1px rgba(60, 64, 67, 0.15);\n",
              "      fill: #174EA6;\n",
              "    }\n",
              "\n",
              "    .colab-df-buttons div {\n",
              "      margin-bottom: 4px;\n",
              "    }\n",
              "\n",
              "    [theme=dark] .colab-df-convert {\n",
              "      background-color: #3B4455;\n",
              "      fill: #D2E3FC;\n",
              "    }\n",
              "\n",
              "    [theme=dark] .colab-df-convert:hover {\n",
              "      background-color: #434B5C;\n",
              "      box-shadow: 0px 1px 3px 1px rgba(0, 0, 0, 0.15);\n",
              "      filter: drop-shadow(0px 1px 2px rgba(0, 0, 0, 0.3));\n",
              "      fill: #FFFFFF;\n",
              "    }\n",
              "  </style>\n",
              "\n",
              "    <script>\n",
              "      const buttonEl =\n",
              "        document.querySelector('#df-11325f75-99d9-4317-898e-d838b5066bbb button.colab-df-convert');\n",
              "      buttonEl.style.display =\n",
              "        google.colab.kernel.accessAllowed ? 'block' : 'none';\n",
              "\n",
              "      async function convertToInteractive(key) {\n",
              "        const element = document.querySelector('#df-11325f75-99d9-4317-898e-d838b5066bbb');\n",
              "        const dataTable =\n",
              "          await google.colab.kernel.invokeFunction('convertToInteractive',\n",
              "                                                    [key], {});\n",
              "        if (!dataTable) return;\n",
              "\n",
              "        const docLinkHtml = 'Like what you see? Visit the ' +\n",
              "          '<a target=\"_blank\" href=https://colab.research.google.com/notebooks/data_table.ipynb>data table notebook</a>'\n",
              "          + ' to learn more about interactive tables.';\n",
              "        element.innerHTML = '';\n",
              "        dataTable['output_type'] = 'display_data';\n",
              "        await google.colab.output.renderOutput(dataTable, element);\n",
              "        const docLink = document.createElement('div');\n",
              "        docLink.innerHTML = docLinkHtml;\n",
              "        element.appendChild(docLink);\n",
              "      }\n",
              "    </script>\n",
              "  </div>\n",
              "\n",
              "\n",
              "    <div id=\"df-eed90eac-3786-4454-b9fd-5ed943e48cf1\">\n",
              "      <button class=\"colab-df-quickchart\" onclick=\"quickchart('df-eed90eac-3786-4454-b9fd-5ed943e48cf1')\"\n",
              "                title=\"Suggest charts\"\n",
              "                style=\"display:none;\">\n",
              "\n",
              "<svg xmlns=\"http://www.w3.org/2000/svg\" height=\"24px\"viewBox=\"0 0 24 24\"\n",
              "     width=\"24px\">\n",
              "    <g>\n",
              "        <path d=\"M19 3H5c-1.1 0-2 .9-2 2v14c0 1.1.9 2 2 2h14c1.1 0 2-.9 2-2V5c0-1.1-.9-2-2-2zM9 17H7v-7h2v7zm4 0h-2V7h2v10zm4 0h-2v-4h2v4z\"/>\n",
              "    </g>\n",
              "</svg>\n",
              "      </button>\n",
              "\n",
              "<style>\n",
              "  .colab-df-quickchart {\n",
              "      --bg-color: #E8F0FE;\n",
              "      --fill-color: #1967D2;\n",
              "      --hover-bg-color: #E2EBFA;\n",
              "      --hover-fill-color: #174EA6;\n",
              "      --disabled-fill-color: #AAA;\n",
              "      --disabled-bg-color: #DDD;\n",
              "  }\n",
              "\n",
              "  [theme=dark] .colab-df-quickchart {\n",
              "      --bg-color: #3B4455;\n",
              "      --fill-color: #D2E3FC;\n",
              "      --hover-bg-color: #434B5C;\n",
              "      --hover-fill-color: #FFFFFF;\n",
              "      --disabled-bg-color: #3B4455;\n",
              "      --disabled-fill-color: #666;\n",
              "  }\n",
              "\n",
              "  .colab-df-quickchart {\n",
              "    background-color: var(--bg-color);\n",
              "    border: none;\n",
              "    border-radius: 50%;\n",
              "    cursor: pointer;\n",
              "    display: none;\n",
              "    fill: var(--fill-color);\n",
              "    height: 32px;\n",
              "    padding: 0;\n",
              "    width: 32px;\n",
              "  }\n",
              "\n",
              "  .colab-df-quickchart:hover {\n",
              "    background-color: var(--hover-bg-color);\n",
              "    box-shadow: 0 1px 2px rgba(60, 64, 67, 0.3), 0 1px 3px 1px rgba(60, 64, 67, 0.15);\n",
              "    fill: var(--button-hover-fill-color);\n",
              "  }\n",
              "\n",
              "  .colab-df-quickchart-complete:disabled,\n",
              "  .colab-df-quickchart-complete:disabled:hover {\n",
              "    background-color: var(--disabled-bg-color);\n",
              "    fill: var(--disabled-fill-color);\n",
              "    box-shadow: none;\n",
              "  }\n",
              "\n",
              "  .colab-df-spinner {\n",
              "    border: 2px solid var(--fill-color);\n",
              "    border-color: transparent;\n",
              "    border-bottom-color: var(--fill-color);\n",
              "    animation:\n",
              "      spin 1s steps(1) infinite;\n",
              "  }\n",
              "\n",
              "  @keyframes spin {\n",
              "    0% {\n",
              "      border-color: transparent;\n",
              "      border-bottom-color: var(--fill-color);\n",
              "      border-left-color: var(--fill-color);\n",
              "    }\n",
              "    20% {\n",
              "      border-color: transparent;\n",
              "      border-left-color: var(--fill-color);\n",
              "      border-top-color: var(--fill-color);\n",
              "    }\n",
              "    30% {\n",
              "      border-color: transparent;\n",
              "      border-left-color: var(--fill-color);\n",
              "      border-top-color: var(--fill-color);\n",
              "      border-right-color: var(--fill-color);\n",
              "    }\n",
              "    40% {\n",
              "      border-color: transparent;\n",
              "      border-right-color: var(--fill-color);\n",
              "      border-top-color: var(--fill-color);\n",
              "    }\n",
              "    60% {\n",
              "      border-color: transparent;\n",
              "      border-right-color: var(--fill-color);\n",
              "    }\n",
              "    80% {\n",
              "      border-color: transparent;\n",
              "      border-right-color: var(--fill-color);\n",
              "      border-bottom-color: var(--fill-color);\n",
              "    }\n",
              "    90% {\n",
              "      border-color: transparent;\n",
              "      border-bottom-color: var(--fill-color);\n",
              "    }\n",
              "  }\n",
              "</style>\n",
              "\n",
              "      <script>\n",
              "        async function quickchart(key) {\n",
              "          const quickchartButtonEl =\n",
              "            document.querySelector('#' + key + ' button');\n",
              "          quickchartButtonEl.disabled = true;  // To prevent multiple clicks.\n",
              "          quickchartButtonEl.classList.add('colab-df-spinner');\n",
              "          try {\n",
              "            const charts = await google.colab.kernel.invokeFunction(\n",
              "                'suggestCharts', [key], {});\n",
              "          } catch (error) {\n",
              "            console.error('Error during call to suggestCharts:', error);\n",
              "          }\n",
              "          quickchartButtonEl.classList.remove('colab-df-spinner');\n",
              "          quickchartButtonEl.classList.add('colab-df-quickchart-complete');\n",
              "        }\n",
              "        (() => {\n",
              "          let quickchartButtonEl =\n",
              "            document.querySelector('#df-eed90eac-3786-4454-b9fd-5ed943e48cf1 button');\n",
              "          quickchartButtonEl.style.display =\n",
              "            google.colab.kernel.accessAllowed ? 'block' : 'none';\n",
              "        })();\n",
              "      </script>\n",
              "    </div>\n",
              "\n",
              "    </div>\n",
              "  </div>\n"
            ],
            "application/vnd.google.colaboratory.intrinsic+json": {
              "type": "dataframe",
              "variable_name": "data",
              "summary": "{\n  \"name\": \"data\",\n  \"rows\": 8881,\n  \"fields\": [\n    {\n      \"column\": \"Datetime\",\n      \"properties\": {\n        \"dtype\": \"string\",\n        \"num_unique_values\": 8881,\n        \"samples\": [\n          \"22-05-2023 10:00\",\n          \"31-07-2022 16:00\",\n          \"01-01-2023 07:00\"\n        ],\n        \"semantic_type\": \"\",\n        \"description\": \"\"\n      }\n    },\n    {\n      \"column\": \"NO2\",\n      \"properties\": {\n        \"dtype\": \"number\",\n        \"std\": 0.5850489465199867,\n        \"min\": 1.76596875,\n        \"max\": 25.88567625,\n        \"num_unique_values\": 1841,\n        \"samples\": [\n          2.25477,\n          2.17373625,\n          1.97292375\n        ],\n        \"semantic_type\": \"\",\n        \"description\": \"\"\n      }\n    },\n    {\n      \"column\": \"O3\",\n      \"properties\": {\n        \"dtype\": \"number\",\n        \"std\": 2.622279148910665,\n        \"min\": 0.186224409,\n        \"max\": 34.51961461,\n        \"num_unique_values\": 1108,\n        \"samples\": [\n          0.362757815,\n          0.603723295,\n          0.925883665\n        ],\n        \"semantic_type\": \"\",\n        \"description\": \"\"\n      }\n    },\n    {\n      \"column\": \"CO\",\n      \"properties\": {\n        \"dtype\": \"number\",\n        \"std\": 121.48513693792252,\n        \"min\": 0.0,\n        \"max\": 1332.431136,\n        \"num_unique_values\": 417,\n        \"samples\": [\n          38.80867388,\n          209.0493899,\n          1050.42144\n        ],\n        \"semantic_type\": \"\",\n        \"description\": \"\"\n      }\n    },\n    {\n      \"column\": \"SO2\",\n      \"properties\": {\n        \"dtype\": \"number\",\n        \"std\": 1.1705137664125222,\n        \"min\": 2.92064386,\n        \"max\": 9.834520975,\n        \"num_unique_values\": 3756,\n        \"samples\": [\n          6.22843189,\n          3.85026056,\n          5.625877618\n        ],\n        \"semantic_type\": \"\",\n        \"description\": \"\"\n      }\n    },\n    {\n      \"column\": \"Temp\",\n      \"properties\": {\n        \"dtype\": \"number\",\n        \"std\": 2.7826501620102504,\n        \"min\": 17.892,\n        \"max\": 28.3195,\n        \"num_unique_values\": 4378,\n        \"samples\": [\n          20.69,\n          18.031,\n          26.8355\n        ],\n        \"semantic_type\": \"\",\n        \"description\": \"\"\n      }\n    },\n    {\n      \"column\": \"RH\",\n      \"properties\": {\n        \"dtype\": \"number\",\n        \"std\": 15.706896695324744,\n        \"min\": 13.0425,\n        \"max\": 99.1325,\n        \"num_unique_values\": 5495,\n        \"samples\": [\n          63.1675,\n          59.6925,\n          63.1175\n        ],\n        \"semantic_type\": \"\",\n        \"description\": \"\"\n      }\n    },\n    {\n      \"column\": \"PM2.5\",\n      \"properties\": {\n        \"dtype\": \"number\",\n        \"std\": 8.870804211938607,\n        \"min\": 0.27958502,\n        \"max\": 66.8044677,\n        \"num_unique_values\": 5084,\n        \"samples\": [\n          14.17980354,\n          38.2825299,\n          26.3259601\n        ],\n        \"semantic_type\": \"\",\n        \"description\": \"\"\n      }\n    },\n    {\n      \"column\": \"PM10\",\n      \"properties\": {\n        \"dtype\": \"number\",\n        \"std\": 15.536308153989026,\n        \"min\": 0.319974405,\n        \"max\": 392.74117,\n        \"num_unique_values\": 5541,\n        \"samples\": [\n          10.41880522,\n          10.5390199,\n          36.1559116\n        ],\n        \"semantic_type\": \"\",\n        \"description\": \"\"\n      }\n    }\n  ]\n}"
            }
          },
          "metadata": {},
          "execution_count": 5
        }
      ]
    },
    {
      "cell_type": "code",
      "source": [
        "data.describe()"
      ],
      "metadata": {
        "id": "9FpLDqj6WesS",
        "colab": {
          "base_uri": "https://localhost:8080/",
          "height": 300
        },
        "outputId": "328c6ca4-915f-48cb-bff6-a9256d181f4c"
      },
      "execution_count": 6,
      "outputs": [
        {
          "output_type": "execute_result",
          "data": {
            "text/plain": [
              "               NO2           O3           CO          SO2         Temp  \\\n",
              "count  8881.000000  8881.000000  8881.000000  8881.000000  8881.000000   \n",
              "mean      2.176745     1.173476   235.143765     4.978822    23.293260   \n",
              "std       0.585049     2.622279   121.485137     1.170514     2.782650   \n",
              "min       1.765969     0.186224     0.000000     2.920644    17.892000   \n",
              "25%       2.132156     0.447881   165.583675     3.943222    21.000000   \n",
              "50%       2.175523     0.684918   233.043584     4.965646    23.336625   \n",
              "75%       2.241776     1.171429   250.962758     6.037213    25.412000   \n",
              "max      25.885676    34.519615  1332.431136     9.834521    28.319500   \n",
              "\n",
              "                RH        PM2.5         PM10  \n",
              "count  8881.000000  8881.000000  8881.000000  \n",
              "mean     72.685802    12.092634    20.034472  \n",
              "std      15.706897     8.870804    15.536308  \n",
              "min      13.042500     0.279585     0.319974  \n",
              "25%      68.760000     5.358683    10.096638  \n",
              "50%      72.361834    11.883808    19.943981  \n",
              "75%      84.490000    13.989915    21.900803  \n",
              "max      99.132500    66.804468   392.741170  "
            ],
            "text/html": [
              "\n",
              "  <div id=\"df-e48defdb-663f-4aa2-bd41-7c31fa971a3f\" class=\"colab-df-container\">\n",
              "    <div>\n",
              "<style scoped>\n",
              "    .dataframe tbody tr th:only-of-type {\n",
              "        vertical-align: middle;\n",
              "    }\n",
              "\n",
              "    .dataframe tbody tr th {\n",
              "        vertical-align: top;\n",
              "    }\n",
              "\n",
              "    .dataframe thead th {\n",
              "        text-align: right;\n",
              "    }\n",
              "</style>\n",
              "<table border=\"1\" class=\"dataframe\">\n",
              "  <thead>\n",
              "    <tr style=\"text-align: right;\">\n",
              "      <th></th>\n",
              "      <th>NO2</th>\n",
              "      <th>O3</th>\n",
              "      <th>CO</th>\n",
              "      <th>SO2</th>\n",
              "      <th>Temp</th>\n",
              "      <th>RH</th>\n",
              "      <th>PM2.5</th>\n",
              "      <th>PM10</th>\n",
              "    </tr>\n",
              "  </thead>\n",
              "  <tbody>\n",
              "    <tr>\n",
              "      <th>count</th>\n",
              "      <td>8881.000000</td>\n",
              "      <td>8881.000000</td>\n",
              "      <td>8881.000000</td>\n",
              "      <td>8881.000000</td>\n",
              "      <td>8881.000000</td>\n",
              "      <td>8881.000000</td>\n",
              "      <td>8881.000000</td>\n",
              "      <td>8881.000000</td>\n",
              "    </tr>\n",
              "    <tr>\n",
              "      <th>mean</th>\n",
              "      <td>2.176745</td>\n",
              "      <td>1.173476</td>\n",
              "      <td>235.143765</td>\n",
              "      <td>4.978822</td>\n",
              "      <td>23.293260</td>\n",
              "      <td>72.685802</td>\n",
              "      <td>12.092634</td>\n",
              "      <td>20.034472</td>\n",
              "    </tr>\n",
              "    <tr>\n",
              "      <th>std</th>\n",
              "      <td>0.585049</td>\n",
              "      <td>2.622279</td>\n",
              "      <td>121.485137</td>\n",
              "      <td>1.170514</td>\n",
              "      <td>2.782650</td>\n",
              "      <td>15.706897</td>\n",
              "      <td>8.870804</td>\n",
              "      <td>15.536308</td>\n",
              "    </tr>\n",
              "    <tr>\n",
              "      <th>min</th>\n",
              "      <td>1.765969</td>\n",
              "      <td>0.186224</td>\n",
              "      <td>0.000000</td>\n",
              "      <td>2.920644</td>\n",
              "      <td>17.892000</td>\n",
              "      <td>13.042500</td>\n",
              "      <td>0.279585</td>\n",
              "      <td>0.319974</td>\n",
              "    </tr>\n",
              "    <tr>\n",
              "      <th>25%</th>\n",
              "      <td>2.132156</td>\n",
              "      <td>0.447881</td>\n",
              "      <td>165.583675</td>\n",
              "      <td>3.943222</td>\n",
              "      <td>21.000000</td>\n",
              "      <td>68.760000</td>\n",
              "      <td>5.358683</td>\n",
              "      <td>10.096638</td>\n",
              "    </tr>\n",
              "    <tr>\n",
              "      <th>50%</th>\n",
              "      <td>2.175523</td>\n",
              "      <td>0.684918</td>\n",
              "      <td>233.043584</td>\n",
              "      <td>4.965646</td>\n",
              "      <td>23.336625</td>\n",
              "      <td>72.361834</td>\n",
              "      <td>11.883808</td>\n",
              "      <td>19.943981</td>\n",
              "    </tr>\n",
              "    <tr>\n",
              "      <th>75%</th>\n",
              "      <td>2.241776</td>\n",
              "      <td>1.171429</td>\n",
              "      <td>250.962758</td>\n",
              "      <td>6.037213</td>\n",
              "      <td>25.412000</td>\n",
              "      <td>84.490000</td>\n",
              "      <td>13.989915</td>\n",
              "      <td>21.900803</td>\n",
              "    </tr>\n",
              "    <tr>\n",
              "      <th>max</th>\n",
              "      <td>25.885676</td>\n",
              "      <td>34.519615</td>\n",
              "      <td>1332.431136</td>\n",
              "      <td>9.834521</td>\n",
              "      <td>28.319500</td>\n",
              "      <td>99.132500</td>\n",
              "      <td>66.804468</td>\n",
              "      <td>392.741170</td>\n",
              "    </tr>\n",
              "  </tbody>\n",
              "</table>\n",
              "</div>\n",
              "    <div class=\"colab-df-buttons\">\n",
              "\n",
              "  <div class=\"colab-df-container\">\n",
              "    <button class=\"colab-df-convert\" onclick=\"convertToInteractive('df-e48defdb-663f-4aa2-bd41-7c31fa971a3f')\"\n",
              "            title=\"Convert this dataframe to an interactive table.\"\n",
              "            style=\"display:none;\">\n",
              "\n",
              "  <svg xmlns=\"http://www.w3.org/2000/svg\" height=\"24px\" viewBox=\"0 -960 960 960\">\n",
              "    <path d=\"M120-120v-720h720v720H120Zm60-500h600v-160H180v160Zm220 220h160v-160H400v160Zm0 220h160v-160H400v160ZM180-400h160v-160H180v160Zm440 0h160v-160H620v160ZM180-180h160v-160H180v160Zm440 0h160v-160H620v160Z\"/>\n",
              "  </svg>\n",
              "    </button>\n",
              "\n",
              "  <style>\n",
              "    .colab-df-container {\n",
              "      display:flex;\n",
              "      gap: 12px;\n",
              "    }\n",
              "\n",
              "    .colab-df-convert {\n",
              "      background-color: #E8F0FE;\n",
              "      border: none;\n",
              "      border-radius: 50%;\n",
              "      cursor: pointer;\n",
              "      display: none;\n",
              "      fill: #1967D2;\n",
              "      height: 32px;\n",
              "      padding: 0 0 0 0;\n",
              "      width: 32px;\n",
              "    }\n",
              "\n",
              "    .colab-df-convert:hover {\n",
              "      background-color: #E2EBFA;\n",
              "      box-shadow: 0px 1px 2px rgba(60, 64, 67, 0.3), 0px 1px 3px 1px rgba(60, 64, 67, 0.15);\n",
              "      fill: #174EA6;\n",
              "    }\n",
              "\n",
              "    .colab-df-buttons div {\n",
              "      margin-bottom: 4px;\n",
              "    }\n",
              "\n",
              "    [theme=dark] .colab-df-convert {\n",
              "      background-color: #3B4455;\n",
              "      fill: #D2E3FC;\n",
              "    }\n",
              "\n",
              "    [theme=dark] .colab-df-convert:hover {\n",
              "      background-color: #434B5C;\n",
              "      box-shadow: 0px 1px 3px 1px rgba(0, 0, 0, 0.15);\n",
              "      filter: drop-shadow(0px 1px 2px rgba(0, 0, 0, 0.3));\n",
              "      fill: #FFFFFF;\n",
              "    }\n",
              "  </style>\n",
              "\n",
              "    <script>\n",
              "      const buttonEl =\n",
              "        document.querySelector('#df-e48defdb-663f-4aa2-bd41-7c31fa971a3f button.colab-df-convert');\n",
              "      buttonEl.style.display =\n",
              "        google.colab.kernel.accessAllowed ? 'block' : 'none';\n",
              "\n",
              "      async function convertToInteractive(key) {\n",
              "        const element = document.querySelector('#df-e48defdb-663f-4aa2-bd41-7c31fa971a3f');\n",
              "        const dataTable =\n",
              "          await google.colab.kernel.invokeFunction('convertToInteractive',\n",
              "                                                    [key], {});\n",
              "        if (!dataTable) return;\n",
              "\n",
              "        const docLinkHtml = 'Like what you see? Visit the ' +\n",
              "          '<a target=\"_blank\" href=https://colab.research.google.com/notebooks/data_table.ipynb>data table notebook</a>'\n",
              "          + ' to learn more about interactive tables.';\n",
              "        element.innerHTML = '';\n",
              "        dataTable['output_type'] = 'display_data';\n",
              "        await google.colab.output.renderOutput(dataTable, element);\n",
              "        const docLink = document.createElement('div');\n",
              "        docLink.innerHTML = docLinkHtml;\n",
              "        element.appendChild(docLink);\n",
              "      }\n",
              "    </script>\n",
              "  </div>\n",
              "\n",
              "\n",
              "    <div id=\"df-ed1ef28b-f37d-48aa-87d2-33c4dba7b06f\">\n",
              "      <button class=\"colab-df-quickchart\" onclick=\"quickchart('df-ed1ef28b-f37d-48aa-87d2-33c4dba7b06f')\"\n",
              "                title=\"Suggest charts\"\n",
              "                style=\"display:none;\">\n",
              "\n",
              "<svg xmlns=\"http://www.w3.org/2000/svg\" height=\"24px\"viewBox=\"0 0 24 24\"\n",
              "     width=\"24px\">\n",
              "    <g>\n",
              "        <path d=\"M19 3H5c-1.1 0-2 .9-2 2v14c0 1.1.9 2 2 2h14c1.1 0 2-.9 2-2V5c0-1.1-.9-2-2-2zM9 17H7v-7h2v7zm4 0h-2V7h2v10zm4 0h-2v-4h2v4z\"/>\n",
              "    </g>\n",
              "</svg>\n",
              "      </button>\n",
              "\n",
              "<style>\n",
              "  .colab-df-quickchart {\n",
              "      --bg-color: #E8F0FE;\n",
              "      --fill-color: #1967D2;\n",
              "      --hover-bg-color: #E2EBFA;\n",
              "      --hover-fill-color: #174EA6;\n",
              "      --disabled-fill-color: #AAA;\n",
              "      --disabled-bg-color: #DDD;\n",
              "  }\n",
              "\n",
              "  [theme=dark] .colab-df-quickchart {\n",
              "      --bg-color: #3B4455;\n",
              "      --fill-color: #D2E3FC;\n",
              "      --hover-bg-color: #434B5C;\n",
              "      --hover-fill-color: #FFFFFF;\n",
              "      --disabled-bg-color: #3B4455;\n",
              "      --disabled-fill-color: #666;\n",
              "  }\n",
              "\n",
              "  .colab-df-quickchart {\n",
              "    background-color: var(--bg-color);\n",
              "    border: none;\n",
              "    border-radius: 50%;\n",
              "    cursor: pointer;\n",
              "    display: none;\n",
              "    fill: var(--fill-color);\n",
              "    height: 32px;\n",
              "    padding: 0;\n",
              "    width: 32px;\n",
              "  }\n",
              "\n",
              "  .colab-df-quickchart:hover {\n",
              "    background-color: var(--hover-bg-color);\n",
              "    box-shadow: 0 1px 2px rgba(60, 64, 67, 0.3), 0 1px 3px 1px rgba(60, 64, 67, 0.15);\n",
              "    fill: var(--button-hover-fill-color);\n",
              "  }\n",
              "\n",
              "  .colab-df-quickchart-complete:disabled,\n",
              "  .colab-df-quickchart-complete:disabled:hover {\n",
              "    background-color: var(--disabled-bg-color);\n",
              "    fill: var(--disabled-fill-color);\n",
              "    box-shadow: none;\n",
              "  }\n",
              "\n",
              "  .colab-df-spinner {\n",
              "    border: 2px solid var(--fill-color);\n",
              "    border-color: transparent;\n",
              "    border-bottom-color: var(--fill-color);\n",
              "    animation:\n",
              "      spin 1s steps(1) infinite;\n",
              "  }\n",
              "\n",
              "  @keyframes spin {\n",
              "    0% {\n",
              "      border-color: transparent;\n",
              "      border-bottom-color: var(--fill-color);\n",
              "      border-left-color: var(--fill-color);\n",
              "    }\n",
              "    20% {\n",
              "      border-color: transparent;\n",
              "      border-left-color: var(--fill-color);\n",
              "      border-top-color: var(--fill-color);\n",
              "    }\n",
              "    30% {\n",
              "      border-color: transparent;\n",
              "      border-left-color: var(--fill-color);\n",
              "      border-top-color: var(--fill-color);\n",
              "      border-right-color: var(--fill-color);\n",
              "    }\n",
              "    40% {\n",
              "      border-color: transparent;\n",
              "      border-right-color: var(--fill-color);\n",
              "      border-top-color: var(--fill-color);\n",
              "    }\n",
              "    60% {\n",
              "      border-color: transparent;\n",
              "      border-right-color: var(--fill-color);\n",
              "    }\n",
              "    80% {\n",
              "      border-color: transparent;\n",
              "      border-right-color: var(--fill-color);\n",
              "      border-bottom-color: var(--fill-color);\n",
              "    }\n",
              "    90% {\n",
              "      border-color: transparent;\n",
              "      border-bottom-color: var(--fill-color);\n",
              "    }\n",
              "  }\n",
              "</style>\n",
              "\n",
              "      <script>\n",
              "        async function quickchart(key) {\n",
              "          const quickchartButtonEl =\n",
              "            document.querySelector('#' + key + ' button');\n",
              "          quickchartButtonEl.disabled = true;  // To prevent multiple clicks.\n",
              "          quickchartButtonEl.classList.add('colab-df-spinner');\n",
              "          try {\n",
              "            const charts = await google.colab.kernel.invokeFunction(\n",
              "                'suggestCharts', [key], {});\n",
              "          } catch (error) {\n",
              "            console.error('Error during call to suggestCharts:', error);\n",
              "          }\n",
              "          quickchartButtonEl.classList.remove('colab-df-spinner');\n",
              "          quickchartButtonEl.classList.add('colab-df-quickchart-complete');\n",
              "        }\n",
              "        (() => {\n",
              "          let quickchartButtonEl =\n",
              "            document.querySelector('#df-ed1ef28b-f37d-48aa-87d2-33c4dba7b06f button');\n",
              "          quickchartButtonEl.style.display =\n",
              "            google.colab.kernel.accessAllowed ? 'block' : 'none';\n",
              "        })();\n",
              "      </script>\n",
              "    </div>\n",
              "\n",
              "    </div>\n",
              "  </div>\n"
            ],
            "application/vnd.google.colaboratory.intrinsic+json": {
              "type": "dataframe",
              "summary": "{\n  \"name\": \"data\",\n  \"rows\": 8,\n  \"fields\": [\n    {\n      \"column\": \"NO2\",\n      \"properties\": {\n        \"dtype\": \"number\",\n        \"std\": 3138.0520754639133,\n        \"min\": 0.5850489465199867,\n        \"max\": 8881.0,\n        \"num_unique_values\": 8,\n        \"samples\": [\n          2.176744947730324,\n          2.1755232,\n          8881.0\n        ],\n        \"semantic_type\": \"\",\n        \"description\": \"\"\n      }\n    },\n    {\n      \"column\": \"O3\",\n      \"properties\": {\n        \"dtype\": \"number\",\n        \"std\": 3137.868601953322,\n        \"min\": 0.186224409,\n        \"max\": 8881.0,\n        \"num_unique_values\": 8,\n        \"samples\": [\n          1.1734760929620536,\n          0.684918185,\n          8881.0\n        ],\n        \"semantic_type\": \"\",\n        \"description\": \"\"\n      }\n    },\n    {\n      \"column\": \"CO\",\n      \"properties\": {\n        \"dtype\": \"number\",\n        \"std\": 3050.227769308559,\n        \"min\": 0.0,\n        \"max\": 8881.0,\n        \"num_unique_values\": 8,\n        \"samples\": [\n          235.1437649840795,\n          233.0435842,\n          8881.0\n        ],\n        \"semantic_type\": \"\",\n        \"description\": \"\"\n      }\n    },\n    {\n      \"column\": \"SO2\",\n      \"properties\": {\n        \"dtype\": \"number\",\n        \"std\": 3138.198959105446,\n        \"min\": 1.1705137664125222,\n        \"max\": 8881.0,\n        \"num_unique_values\": 8,\n        \"samples\": [\n          4.978822208939421,\n          4.965645867,\n          8881.0\n        ],\n        \"semantic_type\": \"\",\n        \"description\": \"\"\n      }\n    },\n    {\n      \"column\": \"Temp\",\n      \"properties\": {\n        \"dtype\": \"number\",\n        \"std\": 3132.743375418763,\n        \"min\": 2.7826501620102504,\n        \"max\": 8881.0,\n        \"num_unique_values\": 8,\n        \"samples\": [\n          23.293259644426303,\n          23.33662516,\n          8881.0\n        ],\n        \"semantic_type\": \"\",\n        \"description\": \"\"\n      }\n    },\n    {\n      \"column\": \"RH\",\n      \"properties\": {\n        \"dtype\": \"number\",\n        \"std\": 3118.5354201911423,\n        \"min\": 13.0425,\n        \"max\": 8881.0,\n        \"num_unique_values\": 8,\n        \"samples\": [\n          72.68580195913748,\n          72.36183352,\n          8881.0\n        ],\n        \"semantic_type\": \"\",\n        \"description\": \"\"\n      }\n    },\n    {\n      \"column\": \"PM2.5\",\n      \"properties\": {\n        \"dtype\": \"number\",\n        \"std\": 3133.951971486944,\n        \"min\": 0.27958502,\n        \"max\": 8881.0,\n        \"num_unique_values\": 8,\n        \"samples\": [\n          12.092634339875467,\n          11.88380751,\n          8881.0\n        ],\n        \"semantic_type\": \"\",\n        \"description\": \"\"\n      }\n    },\n    {\n      \"column\": \"PM10\",\n      \"properties\": {\n        \"dtype\": \"number\",\n        \"std\": 3118.4507805979188,\n        \"min\": 0.319974405,\n        \"max\": 8881.0,\n        \"num_unique_values\": 8,\n        \"samples\": [\n          20.034471536591823,\n          19.94398114,\n          8881.0\n        ],\n        \"semantic_type\": \"\",\n        \"description\": \"\"\n      }\n    }\n  ]\n}"
            }
          },
          "metadata": {},
          "execution_count": 6
        }
      ]
    },
    {
      "cell_type": "code",
      "source": [
        "data.shape"
      ],
      "metadata": {
        "id": "fqPpsKrYWgxO",
        "colab": {
          "base_uri": "https://localhost:8080/"
        },
        "outputId": "b75d4de6-33dc-48d4-e4ec-40314405681c"
      },
      "execution_count": 7,
      "outputs": [
        {
          "output_type": "execute_result",
          "data": {
            "text/plain": [
              "(8881, 9)"
            ]
          },
          "metadata": {},
          "execution_count": 7
        }
      ]
    },
    {
      "cell_type": "code",
      "source": [
        "data.dtypes"
      ],
      "metadata": {
        "id": "auRGN0-vWjVI",
        "colab": {
          "base_uri": "https://localhost:8080/",
          "height": 366
        },
        "outputId": "4a54928c-eddf-4c80-993c-da777c7a63a6"
      },
      "execution_count": 8,
      "outputs": [
        {
          "output_type": "execute_result",
          "data": {
            "text/plain": [
              "Datetime     object\n",
              "NO2         float64\n",
              "O3          float64\n",
              "CO          float64\n",
              "SO2         float64\n",
              "Temp        float64\n",
              "RH          float64\n",
              "PM2.5       float64\n",
              "PM10        float64\n",
              "dtype: object"
            ],
            "text/html": [
              "<div>\n",
              "<style scoped>\n",
              "    .dataframe tbody tr th:only-of-type {\n",
              "        vertical-align: middle;\n",
              "    }\n",
              "\n",
              "    .dataframe tbody tr th {\n",
              "        vertical-align: top;\n",
              "    }\n",
              "\n",
              "    .dataframe thead th {\n",
              "        text-align: right;\n",
              "    }\n",
              "</style>\n",
              "<table border=\"1\" class=\"dataframe\">\n",
              "  <thead>\n",
              "    <tr style=\"text-align: right;\">\n",
              "      <th></th>\n",
              "      <th>0</th>\n",
              "    </tr>\n",
              "  </thead>\n",
              "  <tbody>\n",
              "    <tr>\n",
              "      <th>Datetime</th>\n",
              "      <td>object</td>\n",
              "    </tr>\n",
              "    <tr>\n",
              "      <th>NO2</th>\n",
              "      <td>float64</td>\n",
              "    </tr>\n",
              "    <tr>\n",
              "      <th>O3</th>\n",
              "      <td>float64</td>\n",
              "    </tr>\n",
              "    <tr>\n",
              "      <th>CO</th>\n",
              "      <td>float64</td>\n",
              "    </tr>\n",
              "    <tr>\n",
              "      <th>SO2</th>\n",
              "      <td>float64</td>\n",
              "    </tr>\n",
              "    <tr>\n",
              "      <th>Temp</th>\n",
              "      <td>float64</td>\n",
              "    </tr>\n",
              "    <tr>\n",
              "      <th>RH</th>\n",
              "      <td>float64</td>\n",
              "    </tr>\n",
              "    <tr>\n",
              "      <th>PM2.5</th>\n",
              "      <td>float64</td>\n",
              "    </tr>\n",
              "    <tr>\n",
              "      <th>PM10</th>\n",
              "      <td>float64</td>\n",
              "    </tr>\n",
              "  </tbody>\n",
              "</table>\n",
              "</div><br><label><b>dtype:</b> object</label>"
            ]
          },
          "metadata": {},
          "execution_count": 8
        }
      ]
    },
    {
      "cell_type": "code",
      "source": [
        "data.columns"
      ],
      "metadata": {
        "id": "m7KkRLUzWm1L",
        "colab": {
          "base_uri": "https://localhost:8080/"
        },
        "outputId": "0997c201-8501-427b-8b78-7c6ecb61dc92"
      },
      "execution_count": 9,
      "outputs": [
        {
          "output_type": "execute_result",
          "data": {
            "text/plain": [
              "Index(['Datetime', 'NO2', 'O3', 'CO', 'SO2', 'Temp', 'RH', 'PM2.5', 'PM10'], dtype='object')"
            ]
          },
          "metadata": {},
          "execution_count": 9
        }
      ]
    },
    {
      "cell_type": "code",
      "source": [
        "data.isnull().sum()\n",
        "# No missing values"
      ],
      "metadata": {
        "id": "ctu84uQ6WpGc",
        "colab": {
          "base_uri": "https://localhost:8080/",
          "height": 366
        },
        "outputId": "250bf873-5066-4381-fb43-44ab44af5623"
      },
      "execution_count": 10,
      "outputs": [
        {
          "output_type": "execute_result",
          "data": {
            "text/plain": [
              "Datetime    0\n",
              "NO2         0\n",
              "O3          0\n",
              "CO          0\n",
              "SO2         0\n",
              "Temp        0\n",
              "RH          0\n",
              "PM2.5       0\n",
              "PM10        0\n",
              "dtype: int64"
            ],
            "text/html": [
              "<div>\n",
              "<style scoped>\n",
              "    .dataframe tbody tr th:only-of-type {\n",
              "        vertical-align: middle;\n",
              "    }\n",
              "\n",
              "    .dataframe tbody tr th {\n",
              "        vertical-align: top;\n",
              "    }\n",
              "\n",
              "    .dataframe thead th {\n",
              "        text-align: right;\n",
              "    }\n",
              "</style>\n",
              "<table border=\"1\" class=\"dataframe\">\n",
              "  <thead>\n",
              "    <tr style=\"text-align: right;\">\n",
              "      <th></th>\n",
              "      <th>0</th>\n",
              "    </tr>\n",
              "  </thead>\n",
              "  <tbody>\n",
              "    <tr>\n",
              "      <th>Datetime</th>\n",
              "      <td>0</td>\n",
              "    </tr>\n",
              "    <tr>\n",
              "      <th>NO2</th>\n",
              "      <td>0</td>\n",
              "    </tr>\n",
              "    <tr>\n",
              "      <th>O3</th>\n",
              "      <td>0</td>\n",
              "    </tr>\n",
              "    <tr>\n",
              "      <th>CO</th>\n",
              "      <td>0</td>\n",
              "    </tr>\n",
              "    <tr>\n",
              "      <th>SO2</th>\n",
              "      <td>0</td>\n",
              "    </tr>\n",
              "    <tr>\n",
              "      <th>Temp</th>\n",
              "      <td>0</td>\n",
              "    </tr>\n",
              "    <tr>\n",
              "      <th>RH</th>\n",
              "      <td>0</td>\n",
              "    </tr>\n",
              "    <tr>\n",
              "      <th>PM2.5</th>\n",
              "      <td>0</td>\n",
              "    </tr>\n",
              "    <tr>\n",
              "      <th>PM10</th>\n",
              "      <td>0</td>\n",
              "    </tr>\n",
              "  </tbody>\n",
              "</table>\n",
              "</div><br><label><b>dtype:</b> int64</label>"
            ]
          },
          "metadata": {},
          "execution_count": 10
        }
      ]
    },
    {
      "cell_type": "code",
      "source": [
        "data_numerical = data.select_dtypes(include=np.number)"
      ],
      "metadata": {
        "id": "N7cEPqr5WrSD"
      },
      "execution_count": 11,
      "outputs": []
    },
    {
      "cell_type": "code",
      "source": [
        "data_selected = data_numerical[['NO2', 'O3', 'CO', 'SO2', 'Temp', 'RH', 'PM2.5', 'PM10']]\n",
        "\n",
        "scaler = MinMaxScaler()\n",
        "data_scaled = pd.DataFrame(scaler.fit_transform(data_selected), columns=data_selected.columns)"
      ],
      "metadata": {
        "id": "FFBT1WWAWtmd"
      },
      "execution_count": 12,
      "outputs": []
    },
    {
      "cell_type": "code",
      "source": [
        "plt.figure(figsize=(12, 6))\n",
        "sns.boxplot(data=data[['PM2.5', 'PM10', 'NO2', 'SO2', 'CO', 'O3']])\n",
        "plt.title(\"Boxplot of Pollutants\")\n",
        "plt.show()"
      ],
      "metadata": {
        "id": "3kIliqb0Z-1X",
        "colab": {
          "base_uri": "https://localhost:8080/",
          "height": 545
        },
        "outputId": "0bbda391-3bfe-4c1d-9617-ca608fdfbb45"
      },
      "execution_count": 15,
      "outputs": [
        {
          "output_type": "display_data",
          "data": {
            "text/plain": [
              "<Figure size 1200x600 with 1 Axes>"
            ],
            "image/png": "[encoded data removed]"
          },
          "metadata": {}
        }
      ]
    },
    {
      "cell_type": "code",
      "source": [
        "Q1 = np.percentile(data_scaled, 25, axis=0)\n",
        "Q3 = np.percentile(data_scaled, 75, axis=0)\n",
        "IQR = Q3 - Q1\n",
        "\n",
        "lower_bound = Q1 - 1.5 * IQR\n",
        "upper_bound = Q3 + 1.5 * IQR\n",
        "\n",
        "lower_df = pd.DataFrame([lower_bound], columns=data_scaled.columns)\n",
        "upper_df = pd.DataFrame([upper_bound], columns=data_scaled.columns)\n",
        "\n",
        "data_winsorized = data_scaled.clip(lower=lower_df, upper=upper_df, axis=1)\n",
        "\n",
        "numerical_data = data_winsorized[['NO2', 'O3', 'CO', 'SO2', 'Temp', 'RH', 'PM2.5', 'PM10']]"
      ],
      "metadata": {
        "id": "RNlVDzxkWwFh"
      },
      "execution_count": 16,
      "outputs": []
    },
    {
      "cell_type": "code",
      "source": [
        "# Compute correlation matrix\n",
        "corr_matrix = df.select_dtypes(include=np.number).corr()\n",
        "\n",
        "# Plot heatmap\n",
        "plt.figure(figsize=(8, 6))\n",
        "sns.heatmap(corr_matrix, annot=True, fmt=\".2f\", cmap='coolwarm', square=True, linewidths=0.5)\n",
        "plt.title(\"Correlation Heatmap\")\n",
        "plt.show()"
      ],
      "metadata": {
        "id": "zeCRMOBuX-yt",
        "colab": {
          "base_uri": "https://localhost:8080/",
          "height": 545
        },
        "outputId": "3c3f64fd-7b9e-4e23-a3ce-741834f10ac6"
      },
      "execution_count": 19,
      "outputs": [
        {
          "output_type": "display_data",
          "data": {
            "text/plain": [
              "<Figure size 800x600 with 2 Axes>"
            ],
            "image/png": "[encoded data removed]"
          },
          "metadata": {}
        }
      ]
    },
    {
      "cell_type": "code",
      "source": [
        "plt.figure(figsize=(12, 6))\n",
        "sns.boxplot(data=data[['PM2.5', 'PM10', 'NO2', 'SO2', 'CO', 'O3']])\n",
        "plt.title(\"Boxplot of Pollutants\")\n",
        "plt.show()"
      ],
      "metadata": {
        "id": "aY1ScstQZ9xQ",
        "colab": {
          "base_uri": "https://localhost:8080/",
          "height": 545
        },
        "outputId": "89cc29bf-90c7-4ed6-b385-ca52fe0dd995"
      },
      "execution_count": 20,
      "outputs": [
        {
          "output_type": "display_data",
          "data": {
            "text/plain": [
              "<Figure size 1200x600 with 1 Axes>"
            ],
            "image/png": "[encoded data removed]"
          },
          "metadata": {}
        }
      ]
    },
    {
      "cell_type": "code",
      "source": [
        "column_names = [ 'CO', 'SO2', 'PM10','PM2.5']\n",
        "df = pd.DataFrame(data, columns=column_names)\n",
        "\n",
        "X = df.drop('PM2.5', axis=1)\n",
        "y = df['PM2.5']\n",
        "\n",
        "X.columns = ['CO', 'SO2', 'PM10']\n",
        "df = pd.DataFrame(X, columns=X.columns)\n",
        "df['target'] = y\n",
        "print(df.head())\n",
        "print(df.head())"
      ],
      "metadata": {
        "id": "s1QKBFYIW8vu",
        "colab": {
          "base_uri": "https://localhost:8080/"
        },
        "outputId": "b6796f53-bfa6-43eb-97b0-1f7679a97828"
      },
      "execution_count": 21,
      "outputs": [
        {
          "output_type": "stream",
          "name": "stdout",
          "text": [
            "           CO       SO2       PM10     target\n",
            "0  233.043584  4.965646  19.943981  11.883808\n",
            "1  233.043584  4.965646  19.943981  11.883808\n",
            "2  233.043584  4.965646  19.943981  11.883808\n",
            "3  233.043584  4.965646  19.943981  11.883808\n",
            "4  233.043584  4.965646  19.943981  11.883808\n",
            "           CO       SO2       PM10     target\n",
            "0  233.043584  4.965646  19.943981  11.883808\n",
            "1  233.043584  4.965646  19.943981  11.883808\n",
            "2  233.043584  4.965646  19.943981  11.883808\n",
            "3  233.043584  4.965646  19.943981  11.883808\n",
            "4  233.043584  4.965646  19.943981  11.883808\n"
          ]
        }
      ]
    },
    {
      "cell_type": "code",
      "source": [
        "X_train, X_test,y_train, y_test = train_test_split(X, y, test_size=0.2,random_state=42)\n",
        "print(\"Before Scaling\")\n",
        "print(X_train)\n",
        "print(X_test)"
      ],
      "metadata": {
        "id": "GPlLbSA7W-82",
        "colab": {
          "base_uri": "https://localhost:8080/"
        },
        "outputId": "fc406c44-cca3-4665-f5d2-65cf192352eb"
      },
      "execution_count": 22,
      "outputs": [
        {
          "output_type": "stream",
          "name": "stdout",
          "text": [
            "Before Scaling\n",
            "              CO       SO2       PM10\n",
            "3872  235.439288  3.483709   4.425415\n",
            "1345  116.426022  3.469588   6.824127\n",
            "7978  188.868879  4.948150  11.438337\n",
            "5924  214.741329  6.507905  22.450042\n",
            "7301  103.489797  4.203280   5.806588\n",
            "...          ...       ...        ...\n",
            "5734  325.992861  6.713245  32.312032\n",
            "5191   72.442858  5.760682   4.892319\n",
            "5390  233.043584  4.965646  19.943981\n",
            "860   233.043584  4.965646  19.943981\n",
            "7270  188.868879  7.345149  21.161173\n",
            "\n",
            "[7104 rows x 3 columns]\n",
            "              CO       SO2       PM10\n",
            "7810  170.758165  5.302934  14.814516\n",
            "736   106.077042  3.309553   6.020702\n",
            "4423  230.264798  4.496285  24.920125\n",
            "2138   82.791838  3.793189   5.922417\n",
            "3685  233.043584  4.965646  19.943981\n",
            "...          ...       ...        ...\n",
            "8377  233.043584  4.965646  19.943981\n",
            "2580  162.996430  3.907920  10.832280\n",
            "6149  369.976024  7.086268  44.371778\n",
            "7963  302.707656  5.011693  13.431947\n",
            "2287  233.043584  4.965646  19.943981\n",
            "\n",
            "[1777 rows x 3 columns]\n"
          ]
        }
      ]
    },
    {
      "cell_type": "code",
      "source": [
        "scaler = StandardScaler()\n",
        "X_train = scaler.fit_transform(X_train)\n",
        "X_test = scaler.transform(X_test)\n",
        "print(\"After Scaling\")\n",
        "print(X_train)\n",
        "print(X_test)"
      ],
      "metadata": {
        "id": "k3HqqlseXBHQ",
        "colab": {
          "base_uri": "https://localhost:8080/"
        },
        "outputId": "1a666f56-7d40-4171-87de-574ec52416ae"
      },
      "execution_count": 23,
      "outputs": [
        {
          "output_type": "stream",
          "name": "stdout",
          "text": [
            "After Scaling\n",
            "[[ 0.00419242 -1.27363307 -1.0123011 ]\n",
            " [-0.98032254 -1.28570194 -0.85649354]\n",
            " [-0.38105256 -0.02199069 -0.55677897]\n",
            " ...\n",
            " [-0.01562559 -0.00703685 -0.00429756]\n",
            " [-0.01562559 -0.00703685 -0.00429756]\n",
            " [-0.38105256  2.02669998  0.07476478]]\n",
            "[[-0.53087006  0.28123967 -0.33748035]\n",
            " [-1.06593253 -1.42248247 -0.90867975]\n",
            " [-0.03861258 -0.40819453  0.3189263 ]\n",
            " ...\n",
            " [ 1.11712238  1.80543736  1.58240228]\n",
            " [ 0.5606574   0.03231922 -0.42728466]\n",
            " [-0.01562559 -0.00703685 -0.00429756]]\n"
          ]
        }
      ]
    },
    {
      "cell_type": "code",
      "source": [
        "model = tf.keras.Sequential([\n",
        "    tf.keras.Input(shape=(X_train.shape[1],)),\n",
        "    BatchNormalization(),\n",
        "    Dropout(0.1),\n",
        "    tf.keras.layers.Dense(16, activation='relu'),\n",
        "    BatchNormalization(),\n",
        "    Dropout(0.1),\n",
        "    tf.keras.layers.Dense(16, activation='relu'),\n",
        "    BatchNormalization(),\n",
        "    Dropout(0.1),\n",
        "    tf.keras.layers.Dense(16, activation='relu'),\n",
        "    BatchNormalization(),\n",
        "    Dropout(0.1),\n",
        "    tf.keras.layers.Dense(1, activation='relu')  # no activation for regression\n",
        "])"
      ],
      "metadata": {
        "id": "qOpo-6d2XDLi"
      },
      "execution_count": 39,
      "outputs": []
    },
    {
      "cell_type": "code",
      "source": [
        "# Compile and train\n",
        "model.compile(optimizer='adam', loss='mean_squared_error', metrics=['mae'])\n",
        "\n",
        "model.fit(X_train, y_train, epochs=50, batch_size=64, validation_split=0.1)"
      ],
      "metadata": {
        "id": "EIobQoEWXDDG",
        "colab": {
          "base_uri": "https://localhost:8080/"
        },
        "outputId": "41d3c6fd-32f5-4b45-e329-ca8aee8319fc"
      },
      "execution_count": 40,
      "outputs": [
        {
          "output_type": "stream",
          "name": "stdout",
          "text": [
            "Epoch 1/50\n",
            "\u001b[1m100/100\u001b[0m \u001b[32m━━━━━━━━━━━━━━━━━━━━\u001b[0m\u001b[37m\u001b[0m \u001b[1m4s\u001b[0m 6ms/step - loss: 212.8499 - mae: 11.4362 - val_loss: 199.2183 - val_mae: 11.3081\n",
            "Epoch 2/50\n",
            "\u001b[1m100/100\u001b[0m \u001b[32m━━━━━━━━━━━━━━━━━━━━\u001b[0m\u001b[37m\u001b[0m \u001b[1m0s\u001b[0m 4ms/step - loss: 134.2166 - mae: 9.2722 - val_loss: 114.9362 - val_mae: 8.8326\n",
            "Epoch 3/50\n",
            "\u001b[1m100/100\u001b[0m \u001b[32m━━━━━━━━━━━━━━━━━━━━\u001b[0m\u001b[37m\u001b[0m \u001b[1m0s\u001b[0m 4ms/step - loss: 80.5892 - mae: 7.0729 - val_loss: 52.6615 - val_mae: 5.6698\n",
            "Epoch 4/50\n",
            "\u001b[1m100/100\u001b[0m \u001b[32m━━━━━━━━━━━━━━━━━━━━\u001b[0m\u001b[37m\u001b[0m \u001b[1m0s\u001b[0m 4ms/step - loss: 50.0829 - mae: 5.3141 - val_loss: 32.0670 - val_mae: 3.9357\n",
            "Epoch 5/50\n",
            "\u001b[1m100/100\u001b[0m \u001b[32m━━━━━━━━━━━━━━━━━━━━\u001b[0m\u001b[37m\u001b[0m \u001b[1m1s\u001b[0m 4ms/step - loss: 36.1231 - mae: 4.3273 - val_loss: 24.9656 - val_mae: 3.2185\n",
            "Epoch 6/50\n",
            "\u001b[1m100/100\u001b[0m \u001b[32m━━━━━━━━━━━━━━━━━━━━\u001b[0m\u001b[37m\u001b[0m \u001b[1m0s\u001b[0m 4ms/step - loss: 28.2187 - mae: 3.8050 - val_loss: 21.6260 - val_mae: 2.8963\n",
            "Epoch 7/50\n",
            "\u001b[1m100/100\u001b[0m \u001b[32m━━━━━━━━━━━━━━━━━━━━\u001b[0m\u001b[37m\u001b[0m \u001b[1m1s\u001b[0m 4ms/step - loss: 25.4909 - mae: 3.5415 - val_loss: 19.9793 - val_mae: 2.7860\n",
            "Epoch 8/50\n",
            "\u001b[1m100/100\u001b[0m \u001b[32m━━━━━━━━━━━━━━━━━━━━\u001b[0m\u001b[37m\u001b[0m \u001b[1m0s\u001b[0m 3ms/step - loss: 24.7054 - mae: 3.4842 - val_loss: 18.1926 - val_mae: 2.5600\n",
            "Epoch 9/50\n",
            "\u001b[1m100/100\u001b[0m \u001b[32m━━━━━━━━━━━━━━━━━━━━\u001b[0m\u001b[37m\u001b[0m \u001b[1m0s\u001b[0m 4ms/step - loss: 24.3635 - mae: 3.4335 - val_loss: 17.6464 - val_mae: 2.5593\n",
            "Epoch 10/50\n",
            "\u001b[1m100/100\u001b[0m \u001b[32m━━━━━━━━━━━━━━━━━━━━\u001b[0m\u001b[37m\u001b[0m \u001b[1m0s\u001b[0m 4ms/step - loss: 22.5901 - mae: 3.3440 - val_loss: 15.7015 - val_mae: 2.4815\n",
            "Epoch 11/50\n",
            "\u001b[1m100/100\u001b[0m \u001b[32m━━━━━━━━━━━━━━━━━━━━\u001b[0m\u001b[37m\u001b[0m \u001b[1m1s\u001b[0m 6ms/step - loss: 23.4136 - mae: 3.3041 - val_loss: 16.8621 - val_mae: 2.5373\n",
            "Epoch 12/50\n",
            "\u001b[1m100/100\u001b[0m \u001b[32m━━━━━━━━━━━━━━━━━━━━\u001b[0m\u001b[37m\u001b[0m \u001b[1m1s\u001b[0m 6ms/step - loss: 21.0439 - mae: 3.1604 - val_loss: 17.2565 - val_mae: 2.4546\n",
            "Epoch 13/50\n",
            "\u001b[1m100/100\u001b[0m \u001b[32m━━━━━━━━━━━━━━━━━━━━\u001b[0m\u001b[37m\u001b[0m \u001b[1m1s\u001b[0m 6ms/step - loss: 23.4678 - mae: 3.3045 - val_loss: 15.8740 - val_mae: 2.3858\n",
            "Epoch 14/50\n",
            "\u001b[1m100/100\u001b[0m \u001b[32m━━━━━━━━━━━━━━━━━━━━\u001b[0m\u001b[37m\u001b[0m \u001b[1m0s\u001b[0m 4ms/step - loss: 20.2831 - mae: 3.0806 - val_loss: 14.8848 - val_mae: 2.3508\n",
            "Epoch 15/50\n",
            "\u001b[1m100/100\u001b[0m \u001b[32m━━━━━━━━━━━━━━━━━━━━\u001b[0m\u001b[37m\u001b[0m \u001b[1m0s\u001b[0m 4ms/step - loss: 21.4911 - mae: 3.1379 - val_loss: 13.8443 - val_mae: 2.2266\n",
            "Epoch 16/50\n",
            "\u001b[1m100/100\u001b[0m \u001b[32m━━━━━━━━━━━━━━━━━━━━\u001b[0m\u001b[37m\u001b[0m \u001b[1m0s\u001b[0m 4ms/step - loss: 20.5137 - mae: 2.9315 - val_loss: 14.8335 - val_mae: 2.3398\n",
            "Epoch 17/50\n",
            "\u001b[1m100/100\u001b[0m \u001b[32m━━━━━━━━━━━━━━━━━━━━\u001b[0m\u001b[37m\u001b[0m \u001b[1m1s\u001b[0m 4ms/step - loss: 19.3211 - mae: 2.9773 - val_loss: 16.0691 - val_mae: 2.3810\n",
            "Epoch 18/50\n",
            "\u001b[1m100/100\u001b[0m \u001b[32m━━━━━━━━━━━━━━━━━━━━\u001b[0m\u001b[37m\u001b[0m \u001b[1m1s\u001b[0m 4ms/step - loss: 18.8385 - mae: 2.9850 - val_loss: 15.1663 - val_mae: 2.3516\n",
            "Epoch 19/50\n",
            "\u001b[1m100/100\u001b[0m \u001b[32m━━━━━━━━━━━━━━━━━━━━\u001b[0m\u001b[37m\u001b[0m \u001b[1m1s\u001b[0m 4ms/step - loss: 18.4065 - mae: 2.9216 - val_loss: 14.4957 - val_mae: 2.2563\n",
            "Epoch 20/50\n",
            "\u001b[1m100/100\u001b[0m \u001b[32m━━━━━━━━━━━━━━━━━━━━\u001b[0m\u001b[37m\u001b[0m \u001b[1m1s\u001b[0m 4ms/step - loss: 21.2387 - mae: 3.0523 - val_loss: 14.9597 - val_mae: 2.2424\n",
            "Epoch 21/50\n",
            "\u001b[1m100/100\u001b[0m \u001b[32m━━━━━━━━━━━━━━━━━━━━\u001b[0m\u001b[37m\u001b[0m \u001b[1m1s\u001b[0m 4ms/step - loss: 18.4775 - mae: 2.8739 - val_loss: 15.1273 - val_mae: 2.2930\n",
            "Epoch 22/50\n",
            "\u001b[1m100/100\u001b[0m \u001b[32m━━━━━━━━━━━━━━━━━━━━\u001b[0m\u001b[37m\u001b[0m \u001b[1m1s\u001b[0m 4ms/step - loss: 19.6025 - mae: 2.9133 - val_loss: 14.6015 - val_mae: 2.3056\n",
            "Epoch 23/50\n",
            "\u001b[1m100/100\u001b[0m \u001b[32m━━━━━━━━━━━━━━━━━━━━\u001b[0m\u001b[37m\u001b[0m \u001b[1m1s\u001b[0m 4ms/step - loss: 17.9538 - mae: 2.8490 - val_loss: 15.9145 - val_mae: 2.2823\n",
            "Epoch 24/50\n",
            "\u001b[1m100/100\u001b[0m \u001b[32m━━━━━━━━━━━━━━━━━━━━\u001b[0m\u001b[37m\u001b[0m \u001b[1m0s\u001b[0m 4ms/step - loss: 18.0038 - mae: 2.8764 - val_loss: 14.2007 - val_mae: 2.3015\n",
            "Epoch 25/50\n",
            "\u001b[1m100/100\u001b[0m \u001b[32m━━━━━━━━━━━━━━━━━━━━\u001b[0m\u001b[37m\u001b[0m \u001b[1m1s\u001b[0m 4ms/step - loss: 19.1038 - mae: 2.8752 - val_loss: 14.1526 - val_mae: 2.3327\n",
            "Epoch 26/50\n",
            "\u001b[1m100/100\u001b[0m \u001b[32m━━━━━━━━━━━━━━━━━━━━\u001b[0m\u001b[37m\u001b[0m \u001b[1m0s\u001b[0m 4ms/step - loss: 18.3699 - mae: 2.8125 - val_loss: 14.2475 - val_mae: 2.1952\n",
            "Epoch 27/50\n",
            "\u001b[1m100/100\u001b[0m \u001b[32m━━━━━━━━━━━━━━━━━━━━\u001b[0m\u001b[37m\u001b[0m \u001b[1m0s\u001b[0m 3ms/step - loss: 18.7730 - mae: 2.9111 - val_loss: 14.3939 - val_mae: 2.2869\n",
            "Epoch 28/50\n",
            "\u001b[1m100/100\u001b[0m \u001b[32m━━━━━━━━━━━━━━━━━━━━\u001b[0m\u001b[37m\u001b[0m \u001b[1m1s\u001b[0m 3ms/step - loss: 18.8108 - mae: 2.8535 - val_loss: 13.9175 - val_mae: 2.2782\n",
            "Epoch 29/50\n",
            "\u001b[1m100/100\u001b[0m \u001b[32m━━━━━━━━━━━━━━━━━━━━\u001b[0m\u001b[37m\u001b[0m \u001b[1m1s\u001b[0m 4ms/step - loss: 17.6713 - mae: 2.8017 - val_loss: 13.8986 - val_mae: 2.2786\n",
            "Epoch 30/50\n",
            "\u001b[1m100/100\u001b[0m \u001b[32m━━━━━━━━━━━━━━━━━━━━\u001b[0m\u001b[37m\u001b[0m \u001b[1m1s\u001b[0m 4ms/step - loss: 17.2692 - mae: 2.7923 - val_loss: 13.3503 - val_mae: 2.2670\n",
            "Epoch 31/50\n",
            "\u001b[1m100/100\u001b[0m \u001b[32m━━━━━━━━━━━━━━━━━━━━\u001b[0m\u001b[37m\u001b[0m \u001b[1m1s\u001b[0m 4ms/step - loss: 20.0574 - mae: 2.9386 - val_loss: 13.7861 - val_mae: 2.2436\n",
            "Epoch 32/50\n",
            "\u001b[1m100/100\u001b[0m \u001b[32m━━━━━━━━━━━━━━━━━━━━\u001b[0m\u001b[37m\u001b[0m \u001b[1m1s\u001b[0m 5ms/step - loss: 18.5728 - mae: 2.8336 - val_loss: 13.3903 - val_mae: 2.2731\n",
            "Epoch 33/50\n",
            "\u001b[1m100/100\u001b[0m \u001b[32m━━━━━━━━━━━━━━━━━━━━\u001b[0m\u001b[37m\u001b[0m \u001b[1m1s\u001b[0m 5ms/step - loss: 18.1253 - mae: 2.8022 - val_loss: 13.5133 - val_mae: 2.2527\n",
            "Epoch 34/50\n",
            "\u001b[1m100/100\u001b[0m \u001b[32m━━━━━━━━━━━━━━━━━━━━\u001b[0m\u001b[37m\u001b[0m \u001b[1m1s\u001b[0m 5ms/step - loss: 18.4813 - mae: 2.8277 - val_loss: 13.7630 - val_mae: 2.2216\n",
            "Epoch 35/50\n",
            "\u001b[1m100/100\u001b[0m \u001b[32m━━━━━━━━━━━━━━━━━━━━\u001b[0m\u001b[37m\u001b[0m \u001b[1m1s\u001b[0m 6ms/step - loss: 18.3515 - mae: 2.8663 - val_loss: 13.8132 - val_mae: 2.3554\n",
            "Epoch 36/50\n",
            "\u001b[1m100/100\u001b[0m \u001b[32m━━━━━━━━━━━━━━━━━━━━\u001b[0m\u001b[37m\u001b[0m \u001b[1m1s\u001b[0m 6ms/step - loss: 18.9180 - mae: 2.8578 - val_loss: 13.8539 - val_mae: 2.4245\n",
            "Epoch 37/50\n",
            "\u001b[1m100/100\u001b[0m \u001b[32m━━━━━━━━━━━━━━━━━━━━\u001b[0m\u001b[37m\u001b[0m \u001b[1m1s\u001b[0m 4ms/step - loss: 19.7196 - mae: 2.9065 - val_loss: 12.3033 - val_mae: 2.1560\n",
            "Epoch 38/50\n",
            "\u001b[1m100/100\u001b[0m \u001b[32m━━━━━━━━━━━━━━━━━━━━\u001b[0m\u001b[37m\u001b[0m \u001b[1m1s\u001b[0m 3ms/step - loss: 19.1407 - mae: 2.9420 - val_loss: 12.5276 - val_mae: 2.2725\n",
            "Epoch 39/50\n",
            "\u001b[1m100/100\u001b[0m \u001b[32m━━━━━━━━━━━━━━━━━━━━\u001b[0m\u001b[37m\u001b[0m \u001b[1m0s\u001b[0m 4ms/step - loss: 17.5640 - mae: 2.7843 - val_loss: 12.7266 - val_mae: 2.2258\n",
            "Epoch 40/50\n",
            "\u001b[1m100/100\u001b[0m \u001b[32m━━━━━━━━━━━━━━━━━━━━\u001b[0m\u001b[37m\u001b[0m \u001b[1m0s\u001b[0m 4ms/step - loss: 18.0238 - mae: 2.7992 - val_loss: 12.7454 - val_mae: 2.2437\n",
            "Epoch 41/50\n",
            "\u001b[1m100/100\u001b[0m \u001b[32m━━━━━━━━━━━━━━━━━━━━\u001b[0m\u001b[37m\u001b[0m \u001b[1m1s\u001b[0m 4ms/step - loss: 17.3652 - mae: 2.7376 - val_loss: 12.2708 - val_mae: 2.1823\n",
            "Epoch 42/50\n",
            "\u001b[1m100/100\u001b[0m \u001b[32m━━━━━━━━━━━━━━━━━━━━\u001b[0m\u001b[37m\u001b[0m \u001b[1m0s\u001b[0m 4ms/step - loss: 18.4940 - mae: 2.8390 - val_loss: 12.2635 - val_mae: 2.2257\n",
            "Epoch 43/50\n",
            "\u001b[1m100/100\u001b[0m \u001b[32m━━━━━━━━━━━━━━━━━━━━\u001b[0m\u001b[37m\u001b[0m \u001b[1m1s\u001b[0m 4ms/step - loss: 17.6953 - mae: 2.8118 - val_loss: 12.2580 - val_mae: 2.2007\n",
            "Epoch 44/50\n",
            "\u001b[1m100/100\u001b[0m \u001b[32m━━━━━━━━━━━━━━━━━━━━\u001b[0m\u001b[37m\u001b[0m \u001b[1m0s\u001b[0m 4ms/step - loss: 18.0231 - mae: 2.8111 - val_loss: 13.1928 - val_mae: 2.2867\n",
            "Epoch 45/50\n",
            "\u001b[1m100/100\u001b[0m \u001b[32m━━━━━━━━━━━━━━━━━━━━\u001b[0m\u001b[37m\u001b[0m \u001b[1m0s\u001b[0m 4ms/step - loss: 16.9027 - mae: 2.7149 - val_loss: 13.5078 - val_mae: 2.3712\n",
            "Epoch 46/50\n",
            "\u001b[1m100/100\u001b[0m \u001b[32m━━━━━━━━━━━━━━━━━━━━\u001b[0m\u001b[37m\u001b[0m \u001b[1m0s\u001b[0m 4ms/step - loss: 18.9517 - mae: 2.8264 - val_loss: 13.1332 - val_mae: 2.3443\n",
            "Epoch 47/50\n",
            "\u001b[1m100/100\u001b[0m \u001b[32m━━━━━━━━━━━━━━━━━━━━\u001b[0m\u001b[37m\u001b[0m \u001b[1m0s\u001b[0m 4ms/step - loss: 18.5390 - mae: 2.8211 - val_loss: 12.7350 - val_mae: 2.1970\n",
            "Epoch 48/50\n",
            "\u001b[1m100/100\u001b[0m \u001b[32m━━━━━━━━━━━━━━━━━━━━\u001b[0m\u001b[37m\u001b[0m \u001b[1m0s\u001b[0m 4ms/step - loss: 19.4811 - mae: 2.9224 - val_loss: 13.1143 - val_mae: 2.3889\n",
            "Epoch 49/50\n",
            "\u001b[1m100/100\u001b[0m \u001b[32m━━━━━━━━━━━━━━━━━━━━\u001b[0m\u001b[37m\u001b[0m \u001b[1m0s\u001b[0m 4ms/step - loss: 18.2412 - mae: 2.8227 - val_loss: 12.8325 - val_mae: 2.2498\n",
            "Epoch 50/50\n",
            "\u001b[1m100/100\u001b[0m \u001b[32m━━━━━━━━━━━━━━━━━━━━\u001b[0m\u001b[37m\u001b[0m \u001b[1m0s\u001b[0m 4ms/step - loss: 18.3605 - mae: 2.8158 - val_loss: 12.6375 - val_mae: 2.2432\n"
          ]
        },
        {
          "output_type": "execute_result",
          "data": {
            "text/plain": [
              "<keras.src.callbacks.history.History at 0x7e93cc9a3e50>"
            ]
          },
          "metadata": {},
          "execution_count": 40
        }
      ]
    },
    {
      "cell_type": "code",
      "source": [
        "# Evaluate\n",
        "loss, mae = model.evaluate(X_test, y_test)\n",
        "print(f\"Test Loss (MSE): {loss:.4f}, Test MAE: {mae:.4f}\")"
      ],
      "metadata": {
        "id": "3TrPGT07XH84",
        "colab": {
          "base_uri": "https://localhost:8080/"
        },
        "outputId": "eb8d019c-05ec-4ea1-8676-7c8613d0419a"
      },
      "execution_count": 41,
      "outputs": [
        {
          "output_type": "stream",
          "name": "stdout",
          "text": [
            "\u001b[1m56/56\u001b[0m \u001b[32m━━━━━━━━━━━━━━━━━━━━\u001b[0m\u001b[37m\u001b[0m \u001b[1m0s\u001b[0m 2ms/step - loss: 8.7138 - mae: 1.9138\n",
            "Test Loss (MSE): 9.5981, Test MAE: 1.9941\n"
          ]
        }
      ]
    },
    {
      "cell_type": "code",
      "source": [
        "# Predict using the model\n",
        "y_pred = model.predict(X_test)\n",
        "\n",
        "# Compute R² Score\n",
        "r2 = r2_score(y_test, y_pred)\n",
        "print(f\"R² Score: {r2:.4f}\")"
      ],
      "metadata": {
        "id": "mEJo9qEZXI50",
        "colab": {
          "base_uri": "https://localhost:8080/"
        },
        "outputId": "e9da947c-a470-4601-bd0e-54ec4c036f99"
      },
      "execution_count": 42,
      "outputs": [
        {
          "output_type": "stream",
          "name": "stdout",
          "text": [
            "\u001b[1m56/56\u001b[0m \u001b[32m━━━━━━━━━━━━━━━━━━━━\u001b[0m\u001b[37m\u001b[0m \u001b[1m0s\u001b[0m 4ms/step\n",
            "R² Score: 0.8708\n"
          ]
        }
      ]
    },
    {
      "cell_type": "code",
      "source": [
        "for i in range(5):\n",
        "    print(f\"Predicted PM2.5: {y_pred[i][0]:.2f}, Actual PM2.5: {y_test.iloc[i]:.2f}\")"
      ],
      "metadata": {
        "id": "6BTi1SqkXMut",
        "colab": {
          "base_uri": "https://localhost:8080/"
        },
        "outputId": "349bf7d9-ebaf-4ce9-b894-25ecb62b9d61"
      },
      "execution_count": 43,
      "outputs": [
        {
          "output_type": "stream",
          "name": "stdout",
          "text": [
            "Predicted PM2.5: 10.14, Actual PM2.5: 7.39\n",
            "Predicted PM2.5: 3.68, Actual PM2.5: 2.30\n",
            "Predicted PM2.5: 12.91, Actual PM2.5: 19.44\n",
            "Predicted PM2.5: 4.07, Actual PM2.5: 2.32\n",
            "Predicted PM2.5: 11.82, Actual PM2.5: 11.88\n"
          ]
        }
      ]
    },
    {
      "cell_type": "code",
      "source": [
        "plt.figure(figsize=(8, 6))\n",
        "plt.scatter(y_test, y_pred, alpha=0.6, color='green')\n",
        "plt.plot([y_test.min(), y_test.max()], [y_test.min(), y_test.max()], 'r--')\n",
        "plt.xlabel('Actual PM2.5')\n",
        "plt.ylabel('Predicted PM2.5')\n",
        "plt.title('Actual vs Predicted PM2.5 (Regression Output)')\n",
        "plt.grid(True)\n",
        "plt.show()"
      ],
      "metadata": {
        "id": "ooRb_x5IXNlQ",
        "colab": {
          "base_uri": "https://localhost:8080/",
          "height": 564
        },
        "outputId": "9b52b1c5-0ed5-4ebc-dfb1-7d383d84019d"
      },
      "execution_count": 44,
      "outputs": [
        {
          "output_type": "display_data",
          "data": {
            "text/plain": [
              "<Figure size 800x600 with 1 Axes>"
            ],
            "image/png": "[encoded data removed]"
          },
          "metadata": {}
        }
      ]
    },
    {
      "cell_type": "code",
      "source": [],
      "metadata": {
        "id": "tPxRKp8PeAfA"
      },
      "execution_count": null,
      "outputs": []
    }
  ]
}